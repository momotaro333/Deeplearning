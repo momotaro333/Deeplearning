{
 "cells": [
  {
   "cell_type": "markdown",
   "id": "46ac4bd5",
   "metadata": {},
   "source": [
    "3-4"
   ]
  },
  {
   "cell_type": "code",
   "execution_count": 1,
   "id": "4f121a15",
   "metadata": {},
   "outputs": [
    {
     "name": "stdout",
     "output_type": "stream",
     "text": [
      "Requirement already satisfied: numpy in ./.venv/lib/python3.13/site-packages (2.3.2)\n",
      "\n",
      "\u001b[1m[\u001b[0m\u001b[34;49mnotice\u001b[0m\u001b[1;39;49m]\u001b[0m\u001b[39;49m A new release of pip is available: \u001b[0m\u001b[31;49m24.3.1\u001b[0m\u001b[39;49m -> \u001b[0m\u001b[32;49m25.2\u001b[0m\n",
      "\u001b[1m[\u001b[0m\u001b[34;49mnotice\u001b[0m\u001b[1;39;49m]\u001b[0m\u001b[39;49m To update, run: \u001b[0m\u001b[32;49mpip install --upgrade pip\u001b[0m\n",
      "Note: you may need to restart the kernel to use updated packages.\n",
      "Requirement already satisfied: pandas in ./.venv/lib/python3.13/site-packages (2.3.1)\n",
      "Requirement already satisfied: numpy>=1.26.0 in ./.venv/lib/python3.13/site-packages (from pandas) (2.3.2)\n",
      "Requirement already satisfied: python-dateutil>=2.8.2 in ./.venv/lib/python3.13/site-packages (from pandas) (2.9.0.post0)\n",
      "Requirement already satisfied: pytz>=2020.1 in ./.venv/lib/python3.13/site-packages (from pandas) (2025.2)\n",
      "Requirement already satisfied: tzdata>=2022.7 in ./.venv/lib/python3.13/site-packages (from pandas) (2025.2)\n",
      "Requirement already satisfied: six>=1.5 in ./.venv/lib/python3.13/site-packages (from python-dateutil>=2.8.2->pandas) (1.17.0)\n",
      "\n",
      "\u001b[1m[\u001b[0m\u001b[34;49mnotice\u001b[0m\u001b[1;39;49m]\u001b[0m\u001b[39;49m A new release of pip is available: \u001b[0m\u001b[31;49m24.3.1\u001b[0m\u001b[39;49m -> \u001b[0m\u001b[32;49m25.2\u001b[0m\n",
      "\u001b[1m[\u001b[0m\u001b[34;49mnotice\u001b[0m\u001b[1;39;49m]\u001b[0m\u001b[39;49m To update, run: \u001b[0m\u001b[32;49mpip install --upgrade pip\u001b[0m\n",
      "Note: you may need to restart the kernel to use updated packages.\n"
     ]
    }
   ],
   "source": [
    "%pip install numpy\n",
    "%pip install pandas"
   ]
  },
  {
   "cell_type": "code",
   "execution_count": 2,
   "id": "9315a1e3",
   "metadata": {},
   "outputs": [],
   "source": [
    "import numpy as np\n",
    "import pandas as pd"
   ]
  },
  {
   "cell_type": "markdown",
   "id": "ac06374d",
   "metadata": {},
   "source": [
    "3層ニューラルネットの実装"
   ]
  },
  {
   "cell_type": "code",
   "execution_count": 3,
   "id": "2c192e40",
   "metadata": {},
   "outputs": [],
   "source": [
    "#設計\n",
    "def sigmoid(x):\n",
    "    return 1/(1+np.exp(-x))\n",
    "def identity_function(x):\n",
    "    return x\n",
    "def init_network():\n",
    "    network={}\n",
    "    network['W1']=np.array([[0.1,0.3,0.5],[0.2,0.4,0.6]])\n",
    "    network['b1']=np.array([0.1,0.2,0.3])\n",
    "    network['W2']=np.array([[0.1,0.4],[0.2,0.5],[0.3,0.6]])\n",
    "    network['b2']=np.array([0.1,0.2])\n",
    "    network['W3']=np.array([[0.1,0.3],[0.2,0.4]])\n",
    "    network['b3']=np.array([0.1,0.2])\n",
    "\n",
    "    return network\n",
    "def forward(network,x):\n",
    "    W1,W2,W3=network['W1'],network['W2'],network['W3']\n",
    "    b1,b2,b3=network['b1'],network['b2'],network['b3']\n",
    "\n",
    "    a1=np.dot(x,W1)+b1\n",
    "    z1=sigmoid(a1)\n",
    "    a2=np.dot(z1,W2)+b2\n",
    "    z2=sigmoid(a2)\n",
    "    a3=np.dot(z2,W3)+b3\n",
    "    y=identity_function(a3)\n",
    "\n",
    "    return y"
   ]
  },
  {
   "cell_type": "code",
   "execution_count": 4,
   "id": "fae6308e",
   "metadata": {},
   "outputs": [
    {
     "data": {
      "text/plain": [
       "array([0.31682708, 0.69627909])"
      ]
     },
     "execution_count": 4,
     "metadata": {},
     "output_type": "execute_result"
    }
   ],
   "source": [
    "#実装\n",
    "network=init_network()\n",
    "x=np.array([1.0,0.5])\n",
    "forward(network,x)"
   ]
  },
  {
   "cell_type": "markdown",
   "id": "f1540e43",
   "metadata": {},
   "source": [
    "3-5 出力層の設計"
   ]
  },
  {
   "cell_type": "code",
   "execution_count": 5,
   "id": "7366fe2a",
   "metadata": {},
   "outputs": [
    {
     "name": "stdout",
     "output_type": "stream",
     "text": [
      "[ 1.34985881 18.17414537 54.59815003]\n"
     ]
    }
   ],
   "source": [
    "a=np.array([0.3,2.9,4.0])\n",
    "exp_a=np.exp(a)\n",
    "print(exp_a)"
   ]
  },
  {
   "cell_type": "code",
   "execution_count": 6,
   "id": "c4673524",
   "metadata": {},
   "outputs": [
    {
     "name": "stdout",
     "output_type": "stream",
     "text": [
      "74.1221542101633\n"
     ]
    }
   ],
   "source": [
    "sum_exp_a=sum(exp_a)\n",
    "print(sum_exp_a)"
   ]
  },
  {
   "cell_type": "code",
   "execution_count": 7,
   "id": "4cbf6f82",
   "metadata": {},
   "outputs": [
    {
     "data": {
      "text/plain": [
       "array([0.01821127, 0.24519181, 0.73659691])"
      ]
     },
     "execution_count": 7,
     "metadata": {},
     "output_type": "execute_result"
    }
   ],
   "source": [
    "exp_a/sum_exp_a"
   ]
  },
  {
   "cell_type": "code",
   "execution_count": 8,
   "id": "cdd1c63d",
   "metadata": {},
   "outputs": [],
   "source": [
    "#ソフトマックス関数の実装(仮)\n",
    "def softmax(a):\n",
    "    exp_a=np.exp(a)\n",
    "    exp_a_sum=sum(exp_a)\n",
    "    return exp_a/exp_a_sum"
   ]
  },
  {
   "cell_type": "code",
   "execution_count": 9,
   "id": "6cd3eecb",
   "metadata": {},
   "outputs": [
    {
     "name": "stderr",
     "output_type": "stream",
     "text": [
      "/var/folders/4s/g5jfy6yd0r5d8pcvsfwjr7v00000gn/T/ipykernel_96294/2100727282.py:3: RuntimeWarning: overflow encountered in exp\n",
      "  exp_a=np.exp(a)\n",
      "/var/folders/4s/g5jfy6yd0r5d8pcvsfwjr7v00000gn/T/ipykernel_96294/2100727282.py:5: RuntimeWarning: invalid value encountered in divide\n",
      "  return exp_a/exp_a_sum\n"
     ]
    },
    {
     "data": {
      "text/plain": [
       "array([9.99954600e-01, 4.53978686e-05, 2.06106005e-09])"
      ]
     },
     "execution_count": 9,
     "metadata": {},
     "output_type": "execute_result"
    }
   ],
   "source": [
    "a=np.array([1010,1000,990])\n",
    "softmax(a)\n",
    "c=np.max(a)\n",
    "np.exp(a-c)/np.sum(np.exp(a-c))"
   ]
  },
  {
   "cell_type": "code",
   "execution_count": 10,
   "id": "8c6b3181",
   "metadata": {},
   "outputs": [],
   "source": [
    "def softmax(a):\n",
    "    c=np.max(a)\n",
    "    exp_a=np.exp(a-c)\n",
    "    exp_a_sum=np.sum(exp_a)\n",
    "    y=exp_a/exp_a_sum\n",
    "\n",
    "    return y"
   ]
  },
  {
   "cell_type": "code",
   "execution_count": 11,
   "id": "12519200",
   "metadata": {},
   "outputs": [
    {
     "data": {
      "text/plain": [
       "array([0.01821127, 0.24519181, 0.73659691])"
      ]
     },
     "execution_count": 11,
     "metadata": {},
     "output_type": "execute_result"
    }
   ],
   "source": [
    "a=np.array([0.3,2.9,4.0])\n",
    "softmax(a)"
   ]
  },
  {
   "cell_type": "code",
   "execution_count": 12,
   "id": "d178cd96",
   "metadata": {},
   "outputs": [
    {
     "data": {
      "text/plain": [
       "np.float64(1.0)"
      ]
     },
     "execution_count": 12,
     "metadata": {},
     "output_type": "execute_result"
    }
   ],
   "source": [
    "np.sum(softmax(a))"
   ]
  },
  {
   "cell_type": "markdown",
   "id": "b613ad29",
   "metadata": {},
   "source": [
    "3-6　手書き数字認識"
   ]
  },
  {
   "cell_type": "code",
   "execution_count": 2,
   "id": "195029f2",
   "metadata": {},
   "outputs": [
    {
     "name": "stdout",
     "output_type": "stream",
     "text": [
      "CWD: /Users/tanaamidaisuke/Documents/python_code/self_learinng/Deeplearning\n",
      "Before sys.path: ['/opt/homebrew/Cellar/python@3.13/3.13.1/Frameworks/Python.framework/Versions/3.13/lib/python313.zip', '/opt/homebrew/Cellar/python@3.13/3.13.1/Frameworks/Python.framework/Versions/3.13/lib/python3.13', '/opt/homebrew/Cellar/python@3.13/3.13.1/Frameworks/Python.framework/Versions/3.13/lib/python3.13/lib-dynload', '', '/Users/tanaamidaisuke/Documents/python_code/self_learinng/Deeplearning/.venv/lib/python3.13/site-packages']\n",
      "After sys.path: ['/Users/tanaamidaisuke/Documents/python_code/self_learinng/Deeplearning/deep-learning-from-scratch-master', '/opt/homebrew/Cellar/python@3.13/3.13.1/Frameworks/Python.framework/Versions/3.13/lib/python313.zip', '/opt/homebrew/Cellar/python@3.13/3.13.1/Frameworks/Python.framework/Versions/3.13/lib/python3.13', '/opt/homebrew/Cellar/python@3.13/3.13.1/Frameworks/Python.framework/Versions/3.13/lib/python3.13/lib-dynload', '', '/Users/tanaamidaisuke/Documents/python_code/self_learinng/Deeplearning/.venv/lib/python3.13/site-packages']\n",
      "✅ import成功！\n"
     ]
    }
   ],
   "source": [
    "import sys, os\n",
    "\n",
    "# カレントディレクトリ確認\n",
    "print(\"CWD:\", os.getcwd())\n",
    "\n",
    "# すでに追加されてるsys.pathを確認（デバッグ用）\n",
    "print(\"Before sys.path:\", sys.path)\n",
    "\n",
    "# 一度重複を防ぐためにクリア（必要なら）\n",
    "while './deep-learning-from-scratch-master' in sys.path:\n",
    "    sys.path.remove('./deep-learning-from-scratch-master')\n",
    "\n",
    "# 絶対パスを追加（ここが最重要！）\n",
    "abs_path = '/Users/tanaamidaisuke/Documents/python_code/self_learinng/Deeplearning/deep-learning-from-scratch-master'\n",
    "if abs_path not in sys.path:\n",
    "    sys.path.insert(0, abs_path)\n",
    "\n",
    "print(\"After sys.path:\", sys.path)\n",
    "\n",
    "# ここでimport（失敗したらエラー出る）\n",
    "from dataset.mnist import load_mnist\n",
    "\n",
    "print(\"✅ import成功！\")"
   ]
  },
  {
   "cell_type": "code",
   "execution_count": 3,
   "id": "f7195e1c",
   "metadata": {},
   "outputs": [],
   "source": [
    "(x_train,t_train),(x_test,t_test)=load_mnist(flatten=True,normalize=False)"
   ]
  },
  {
   "cell_type": "code",
   "execution_count": 4,
   "id": "8cb13c7f",
   "metadata": {},
   "outputs": [
    {
     "name": "stdout",
     "output_type": "stream",
     "text": [
      "(60000, 784)\n",
      "(60000,)\n",
      "(10000, 784)\n",
      "(10000,)\n"
     ]
    }
   ],
   "source": [
    "print(x_train.shape)\n",
    "print(t_train.shape)\n",
    "print(x_test.shape)\n",
    "print(t_test.shape)"
   ]
  },
  {
   "cell_type": "code",
   "execution_count": null,
   "id": "37f2b50f",
   "metadata": {},
   "outputs": [],
   "source": []
  }
 ],
 "metadata": {
  "kernelspec": {
   "display_name": ".venv (3.13.1)",
   "language": "python",
   "name": "python3"
  },
  "language_info": {
   "codemirror_mode": {
    "name": "ipython",
    "version": 3
   },
   "file_extension": ".py",
   "mimetype": "text/x-python",
   "name": "python",
   "nbconvert_exporter": "python",
   "pygments_lexer": "ipython3",
   "version": "3.13.1"
  }
 },
 "nbformat": 4,
 "nbformat_minor": 5
}
