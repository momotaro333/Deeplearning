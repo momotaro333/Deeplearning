{
 "cells": [
  {
   "cell_type": "markdown",
   "id": "46ac4bd5",
   "metadata": {},
   "source": [
    "3-4"
   ]
  },
  {
   "cell_type": "code",
   "execution_count": 2,
   "id": "4f121a15",
   "metadata": {},
   "outputs": [
    {
     "name": "stdout",
     "output_type": "stream",
     "text": [
      "Requirement already satisfied: numpy in ./venv/lib/python3.12/site-packages (2.3.2)\n",
      "Note: you may need to restart the kernel to use updated packages.\n",
      "Requirement already satisfied: pandas in ./venv/lib/python3.12/site-packages (2.3.1)\n",
      "Requirement already satisfied: numpy>=1.26.0 in ./venv/lib/python3.12/site-packages (from pandas) (2.3.2)\n",
      "Requirement already satisfied: python-dateutil>=2.8.2 in ./venv/lib/python3.12/site-packages (from pandas) (2.9.0.post0)\n",
      "Requirement already satisfied: pytz>=2020.1 in ./venv/lib/python3.12/site-packages (from pandas) (2025.2)\n",
      "Requirement already satisfied: tzdata>=2022.7 in ./venv/lib/python3.12/site-packages (from pandas) (2025.2)\n",
      "Requirement already satisfied: six>=1.5 in ./venv/lib/python3.12/site-packages (from python-dateutil>=2.8.2->pandas) (1.17.0)\n",
      "Note: you may need to restart the kernel to use updated packages.\n",
      "\u001b[31mERROR: Could not find a version that satisfies the requirement pickle (from versions: none)\u001b[0m\u001b[31m\n",
      "\u001b[0m\u001b[31mERROR: No matching distribution found for pickle\u001b[0m\u001b[31m\n",
      "\u001b[0mNote: you may need to restart the kernel to use updated packages.\n",
      "Requirement already satisfied: matplotlib in ./venv/lib/python3.12/site-packages (3.10.5)\n",
      "Requirement already satisfied: contourpy>=1.0.1 in ./venv/lib/python3.12/site-packages (from matplotlib) (1.3.3)\n",
      "Requirement already satisfied: cycler>=0.10 in ./venv/lib/python3.12/site-packages (from matplotlib) (0.12.1)\n",
      "Requirement already satisfied: fonttools>=4.22.0 in ./venv/lib/python3.12/site-packages (from matplotlib) (4.59.1)\n",
      "Requirement already satisfied: kiwisolver>=1.3.1 in ./venv/lib/python3.12/site-packages (from matplotlib) (1.4.9)\n",
      "Requirement already satisfied: numpy>=1.23 in ./venv/lib/python3.12/site-packages (from matplotlib) (2.3.2)\n",
      "Requirement already satisfied: packaging>=20.0 in ./venv/lib/python3.12/site-packages (from matplotlib) (25.0)\n",
      "Requirement already satisfied: pillow>=8 in ./venv/lib/python3.12/site-packages (from matplotlib) (11.3.0)\n",
      "Requirement already satisfied: pyparsing>=2.3.1 in ./venv/lib/python3.12/site-packages (from matplotlib) (3.2.3)\n",
      "Requirement already satisfied: python-dateutil>=2.7 in ./venv/lib/python3.12/site-packages (from matplotlib) (2.9.0.post0)\n",
      "Requirement already satisfied: six>=1.5 in ./venv/lib/python3.12/site-packages (from python-dateutil>=2.7->matplotlib) (1.17.0)\n",
      "Note: you may need to restart the kernel to use updated packages.\n"
     ]
    }
   ],
   "source": [
    "%pip install numpy\n",
    "%pip install pandas\n",
    "%pip install pickle\n",
    "%pip install matplotlib"
   ]
  },
  {
   "cell_type": "code",
   "execution_count": 3,
   "id": "9315a1e3",
   "metadata": {},
   "outputs": [],
   "source": [
    "import numpy as np\n",
    "import pandas as pd\n",
    "import pickle"
   ]
  },
  {
   "cell_type": "markdown",
   "id": "ac06374d",
   "metadata": {},
   "source": [
    "3層ニューラルネットの実装"
   ]
  },
  {
   "cell_type": "code",
   "execution_count": 4,
   "id": "2c192e40",
   "metadata": {},
   "outputs": [],
   "source": [
    "#設計\n",
    "def sigmoid(x):\n",
    "    return 1/(1+np.exp(-x))\n",
    "def identity_function(x):\n",
    "    return x\n",
    "def init_network():\n",
    "    network={}\n",
    "    network['W1']=np.array([[0.1,0.3,0.5],[0.2,0.4,0.6]])\n",
    "    network['b1']=np.array([0.1,0.2,0.3])\n",
    "    network['W2']=np.array([[0.1,0.4],[0.2,0.5],[0.3,0.6]])\n",
    "    network['b2']=np.array([0.1,0.2])\n",
    "    network['W3']=np.array([[0.1,0.3],[0.2,0.4]])\n",
    "    network['b3']=np.array([0.1,0.2])\n",
    "\n",
    "    return network\n",
    "def forward(network,x):\n",
    "    W1,W2,W3=network['W1'],network['W2'],network['W3']\n",
    "    b1,b2,b3=network['b1'],network['b2'],network['b3']\n",
    "\n",
    "    a1=np.dot(x,W1)+b1\n",
    "    z1=sigmoid(a1)\n",
    "    a2=np.dot(z1,W2)+b2\n",
    "    z2=sigmoid(a2)\n",
    "    a3=np.dot(z2,W3)+b3\n",
    "    y=identity_function(a3)\n",
    "\n",
    "    return y"
   ]
  },
  {
   "cell_type": "code",
   "execution_count": 5,
   "id": "fae6308e",
   "metadata": {},
   "outputs": [
    {
     "data": {
      "text/plain": [
       "array([0.31682708, 0.69627909])"
      ]
     },
     "execution_count": 5,
     "metadata": {},
     "output_type": "execute_result"
    }
   ],
   "source": [
    "#実装\n",
    "network=init_network()\n",
    "x=np.array([1.0,0.5])\n",
    "forward(network,x)"
   ]
  },
  {
   "cell_type": "markdown",
   "id": "f1540e43",
   "metadata": {},
   "source": [
    "3-5 出力層の設計"
   ]
  },
  {
   "cell_type": "code",
   "execution_count": 6,
   "id": "7366fe2a",
   "metadata": {},
   "outputs": [
    {
     "name": "stdout",
     "output_type": "stream",
     "text": [
      "[ 1.34985881 18.17414537 54.59815003]\n"
     ]
    }
   ],
   "source": [
    "a=np.array([0.3,2.9,4.0])\n",
    "exp_a=np.exp(a)\n",
    "print(exp_a)"
   ]
  },
  {
   "cell_type": "code",
   "execution_count": 7,
   "id": "c4673524",
   "metadata": {},
   "outputs": [
    {
     "name": "stdout",
     "output_type": "stream",
     "text": [
      "74.1221542101633\n"
     ]
    }
   ],
   "source": [
    "sum_exp_a=sum(exp_a)\n",
    "print(sum_exp_a)"
   ]
  },
  {
   "cell_type": "code",
   "execution_count": 8,
   "id": "4cbf6f82",
   "metadata": {},
   "outputs": [
    {
     "data": {
      "text/plain": [
       "array([0.01821127, 0.24519181, 0.73659691])"
      ]
     },
     "execution_count": 8,
     "metadata": {},
     "output_type": "execute_result"
    }
   ],
   "source": [
    "exp_a/sum_exp_a"
   ]
  },
  {
   "cell_type": "code",
   "execution_count": 9,
   "id": "cdd1c63d",
   "metadata": {},
   "outputs": [],
   "source": [
    "#ソフトマックス関数の実装(仮)\n",
    "def softmax(a):\n",
    "    exp_a=np.exp(a)\n",
    "    exp_a_sum=sum(exp_a)\n",
    "    return exp_a/exp_a_sum"
   ]
  },
  {
   "cell_type": "code",
   "execution_count": 10,
   "id": "6cd3eecb",
   "metadata": {},
   "outputs": [
    {
     "name": "stderr",
     "output_type": "stream",
     "text": [
      "/var/folders/4s/g5jfy6yd0r5d8pcvsfwjr7v00000gn/T/ipykernel_43546/2100727282.py:3: RuntimeWarning: overflow encountered in exp\n",
      "  exp_a=np.exp(a)\n",
      "/var/folders/4s/g5jfy6yd0r5d8pcvsfwjr7v00000gn/T/ipykernel_43546/2100727282.py:5: RuntimeWarning: invalid value encountered in divide\n",
      "  return exp_a/exp_a_sum\n"
     ]
    },
    {
     "data": {
      "text/plain": [
       "array([9.99954600e-01, 4.53978686e-05, 2.06106005e-09])"
      ]
     },
     "execution_count": 10,
     "metadata": {},
     "output_type": "execute_result"
    }
   ],
   "source": [
    "a=np.array([1010,1000,990])\n",
    "softmax(a)\n",
    "c=np.max(a)\n",
    "np.exp(a-c)/np.sum(np.exp(a-c))"
   ]
  },
  {
   "cell_type": "code",
   "execution_count": 11,
   "id": "8c6b3181",
   "metadata": {},
   "outputs": [],
   "source": [
    "def softmax(a):\n",
    "    c=np.max(a)\n",
    "    exp_a=np.exp(a-c)\n",
    "    exp_a_sum=np.sum(exp_a)\n",
    "    y=exp_a/exp_a_sum\n",
    "\n",
    "    return y"
   ]
  },
  {
   "cell_type": "code",
   "execution_count": 12,
   "id": "12519200",
   "metadata": {},
   "outputs": [
    {
     "data": {
      "text/plain": [
       "array([0.01821127, 0.24519181, 0.73659691])"
      ]
     },
     "execution_count": 12,
     "metadata": {},
     "output_type": "execute_result"
    }
   ],
   "source": [
    "a=np.array([0.3,2.9,4.0])\n",
    "softmax(a)"
   ]
  },
  {
   "cell_type": "code",
   "execution_count": 13,
   "id": "d178cd96",
   "metadata": {},
   "outputs": [
    {
     "data": {
      "text/plain": [
       "np.float64(1.0)"
      ]
     },
     "execution_count": 13,
     "metadata": {},
     "output_type": "execute_result"
    }
   ],
   "source": [
    "np.sum(softmax(a))"
   ]
  },
  {
   "cell_type": "markdown",
   "id": "b613ad29",
   "metadata": {},
   "source": [
    "3-6　手書き数字認識"
   ]
  },
  {
   "cell_type": "code",
   "execution_count": 14,
   "id": "195029f2",
   "metadata": {},
   "outputs": [
    {
     "name": "stdout",
     "output_type": "stream",
     "text": [
      "CWD: /Users/tanaamidaisuke/Documents/python_code/self_learinng/Deeplearning\n",
      "Before sys.path: ['/opt/anaconda3/lib/python312.zip', '/opt/anaconda3/lib/python3.12', '/opt/anaconda3/lib/python3.12/lib-dynload', '', '/Users/tanaamidaisuke/Documents/python_code/self_learinng/Deeplearning/venv/lib/python3.12/site-packages']\n",
      "After sys.path: ['/Users/tanaamidaisuke/Documents/python_code/self_learinng/Deeplearning/deep-learning-from-scratch-master', '/opt/anaconda3/lib/python312.zip', '/opt/anaconda3/lib/python3.12', '/opt/anaconda3/lib/python3.12/lib-dynload', '', '/Users/tanaamidaisuke/Documents/python_code/self_learinng/Deeplearning/venv/lib/python3.12/site-packages']\n",
      "✅ import成功！\n"
     ]
    }
   ],
   "source": [
    "import sys, os\n",
    "\n",
    "# カレントディレクトリ確認\n",
    "print(\"CWD:\", os.getcwd())\n",
    "\n",
    "# すでに追加されてるsys.pathを確認（デバッグ用）\n",
    "print(\"Before sys.path:\", sys.path)\n",
    "\n",
    "# 一度重複を防ぐためにクリア（必要なら）\n",
    "while './deep-learning-from-scratch-master' in sys.path:\n",
    "    sys.path.remove('./deep-learning-from-scratch-master')\n",
    "\n",
    "# 絶対パスを追加（ここが最重要！）\n",
    "abs_path = '/Users/tanaamidaisuke/Documents/python_code/self_learinng/Deeplearning/deep-learning-from-scratch-master'\n",
    "if abs_path not in sys.path:\n",
    "    sys.path.insert(0, abs_path)\n",
    "\n",
    "print(\"After sys.path:\", sys.path)\n",
    "\n",
    "# ここでimport（失敗したらエラー出る）\n",
    "from dataset.mnist import load_mnist\n",
    "\n",
    "print(\"✅ import成功！\")"
   ]
  },
  {
   "cell_type": "code",
   "execution_count": 15,
   "id": "37f2b50f",
   "metadata": {},
   "outputs": [],
   "source": [
    "def get_data():\n",
    "    (x_train,t_train),(x_test,t_test)=\\\n",
    "        load_mnist(normalize=True,flatten=True,one_hot_label=False)\n",
    "    return x_test,t_test\n",
    "def init_network():\n",
    "    with open('/Users/tanaamidaisuke/Documents/python_code/self_learinng/Deeplearning/deep-learning-from-scratch-master/ch03/sample_weight.pkl','rb') as f:\n",
    "        network=pickle.load(f)\n",
    "    return network\n",
    "def predict(network,x):\n",
    "    W1,W2,W3=network['W1'],network['W2'],network['W3']\n",
    "    b1,b2,b3=network['b1'],network['b2'],network['b3']\n",
    "\n",
    "    a1=np.dot(x,W1)+b1\n",
    "    z1=sigmoid(a1)\n",
    "    a2=np.dot(z1,W2)+b2\n",
    "    z2=sigmoid(a2)\n",
    "    a3=np.dot(z2,W3)+b3\n",
    "    y=softmax(a3)\n",
    "\n",
    "    return y"
   ]
  },
  {
   "cell_type": "code",
   "execution_count": 16,
   "id": "f8e54386",
   "metadata": {},
   "outputs": [
    {
     "name": "stdout",
     "output_type": "stream",
     "text": [
      "accuracy0.9352\n"
     ]
    }
   ],
   "source": [
    "x,t=get_data()\n",
    "network=init_network()\n",
    "\n",
    "accuracy_cnt=0\n",
    "for i in range(len(x)):\n",
    "    y=predict(network,x[i])\n",
    "    p=np.argmax(y) \n",
    "    if p==t[i]:\n",
    "        accuracy_cnt += 1\n",
    "print('accuracy'+str(accuracy_cnt/len(x)))\n"
   ]
  },
  {
   "cell_type": "code",
   "execution_count": 17,
   "id": "30c6e45d",
   "metadata": {},
   "outputs": [],
   "source": [
    "x,_=get_data() #画像のデータと正解ラベルがある\n",
    "network=init_network()\n",
    "W1,W2,W3=network['W1'],network['W2'],network['W3']"
   ]
  },
  {
   "cell_type": "code",
   "execution_count": 18,
   "id": "8a3657e9",
   "metadata": {},
   "outputs": [
    {
     "name": "stdout",
     "output_type": "stream",
     "text": [
      "0.9352\n"
     ]
    }
   ],
   "source": [
    "x,t=get_data()\n",
    "network=init_network()\n",
    "\n",
    "batch_size=100\n",
    "accuracy_cnt=0\n",
    "\n",
    "for i in range(0,len(x),batch_size): #100刻みにiをとってくる\n",
    "    x_batch=x[i:i+batch_size]\n",
    "    y_batch=predict(network,x_batch)\n",
    "    p=np.argmax(y_batch,axis=1) #最大の値のインデックス\n",
    "    accuracy_cnt += np.sum(p==t[i:i+batch_size])\n",
    "\n",
    "print(accuracy_cnt/len(x))\n"
   ]
  },
  {
   "cell_type": "markdown",
   "id": "831d4235",
   "metadata": {},
   "source": [
    "4 ニューラルネットワークの学習"
   ]
  },
  {
   "cell_type": "code",
   "execution_count": 19,
   "id": "85bc2f42",
   "metadata": {},
   "outputs": [],
   "source": [
    "y=[0.1,0.05,0.6,0.0,0.05,0.1,0.0,0.1,0.0,0.0]\n",
    "t=[0,0,1,0,0,0,0,0,0,0]"
   ]
  },
  {
   "cell_type": "code",
   "execution_count": 20,
   "id": "f912f46f",
   "metadata": {},
   "outputs": [],
   "source": [
    "# 損失関数の実装　これの値が小さい方が損失小さい→良い\n",
    "def sum_squard_error(y,t):\n",
    "    return 0.5*np.sum((y-t)**2)"
   ]
  },
  {
   "cell_type": "code",
   "execution_count": 21,
   "id": "2b2b60d6",
   "metadata": {},
   "outputs": [
    {
     "data": {
      "text/plain": [
       "np.float64(0.09750000000000003)"
      ]
     },
     "execution_count": 21,
     "metadata": {},
     "output_type": "execute_result"
    }
   ],
   "source": [
    "sum_squard_error(np.array(y),np.array(t))"
   ]
  },
  {
   "cell_type": "code",
   "execution_count": 22,
   "id": "825dd74b",
   "metadata": {},
   "outputs": [],
   "source": [
    "def cross_entropy_error(y,t):\n",
    "    delta=1e-7\n",
    "    return -np.sum(t*np.log(y+delta))"
   ]
  },
  {
   "cell_type": "code",
   "execution_count": 23,
   "id": "b1c91006",
   "metadata": {},
   "outputs": [
    {
     "data": {
      "text/plain": [
       "np.float64(0.510825457099338)"
      ]
     },
     "execution_count": 23,
     "metadata": {},
     "output_type": "execute_result"
    }
   ],
   "source": [
    "cross_entropy_error(np.array(y),np.array(t))"
   ]
  },
  {
   "cell_type": "code",
   "execution_count": 24,
   "id": "516cef73",
   "metadata": {},
   "outputs": [
    {
     "name": "stdout",
     "output_type": "stream",
     "text": [
      "(60000, 784)\n",
      "(60000, 10)\n"
     ]
    }
   ],
   "source": [
    "(x_train,t_train),(x_test,y_test)=load_mnist(normalize=True,one_hot_label=True)\n",
    "print(x_train.shape)\n",
    "print(t_train.shape)"
   ]
  },
  {
   "cell_type": "code",
   "execution_count": 25,
   "id": "5cac48e2",
   "metadata": {},
   "outputs": [],
   "source": [
    "train_size=x_train.shape[0]\n",
    "batch_size=10\n",
    "batch_mask=np.random.choice(train_size,batch_size)\n",
    "x_batch=x_train[batch_mask]\n",
    "t_batch=t_train[batch_mask]"
   ]
  },
  {
   "cell_type": "code",
   "execution_count": 26,
   "id": "98ffcda5",
   "metadata": {},
   "outputs": [],
   "source": [
    "# y,tがバッチの時のクロスエントロピー誤差\n",
    "def cross_entropy_error(y,t):\n",
    "    delta=1e-7\n",
    "    if y.ndim==1: #列持ちから行持ちに変更することで一括で処理できるようにする\n",
    "        y=y.reshape(1,y.size)\n",
    "        t=t.reshape(1,t.size)\n",
    "    batch_size=y.shape[0]\n",
    "    return -np.sum(t*np.log(y+delta))/batch_size\n",
    "    "
   ]
  },
  {
   "cell_type": "code",
   "execution_count": 27,
   "id": "b2679fc3",
   "metadata": {},
   "outputs": [],
   "source": [
    "# 微分のコード\n",
    "\n",
    "def numerical_diff(f,x):\n",
    "    h=1e-4\n",
    "    return (f(x+h)-f(x-h))/(2*h)"
   ]
  },
  {
   "cell_type": "code",
   "execution_count": 28,
   "id": "277e52ff",
   "metadata": {},
   "outputs": [],
   "source": [
    "def function_1(x):\n",
    "    return 0.01*x**2+0.1*x"
   ]
  },
  {
   "cell_type": "code",
   "execution_count": 29,
   "id": "d51d7dfd",
   "metadata": {},
   "outputs": [
    {
     "name": "stdout",
     "output_type": "stream",
     "text": [
      "Requirement already satisfied: matplotlib in ./venv/lib/python3.12/site-packages (3.10.5)\n",
      "Requirement already satisfied: contourpy>=1.0.1 in ./venv/lib/python3.12/site-packages (from matplotlib) (1.3.3)\n",
      "Requirement already satisfied: cycler>=0.10 in ./venv/lib/python3.12/site-packages (from matplotlib) (0.12.1)\n",
      "Requirement already satisfied: fonttools>=4.22.0 in ./venv/lib/python3.12/site-packages (from matplotlib) (4.59.1)\n",
      "Requirement already satisfied: kiwisolver>=1.3.1 in ./venv/lib/python3.12/site-packages (from matplotlib) (1.4.9)\n",
      "Requirement already satisfied: numpy>=1.23 in ./venv/lib/python3.12/site-packages (from matplotlib) (2.3.2)\n",
      "Requirement already satisfied: packaging>=20.0 in ./venv/lib/python3.12/site-packages (from matplotlib) (25.0)\n",
      "Requirement already satisfied: pillow>=8 in ./venv/lib/python3.12/site-packages (from matplotlib) (11.3.0)\n",
      "Requirement already satisfied: pyparsing>=2.3.1 in ./venv/lib/python3.12/site-packages (from matplotlib) (3.2.3)\n",
      "Requirement already satisfied: python-dateutil>=2.7 in ./venv/lib/python3.12/site-packages (from matplotlib) (2.9.0.post0)\n",
      "Requirement already satisfied: six>=1.5 in ./venv/lib/python3.12/site-packages (from python-dateutil>=2.7->matplotlib) (1.17.0)\n",
      "Note: you may need to restart the kernel to use updated packages.\n"
     ]
    }
   ],
   "source": [
    "%pip install matplotlib"
   ]
  },
  {
   "cell_type": "code",
   "execution_count": 30,
   "id": "d73c30b3",
   "metadata": {},
   "outputs": [],
   "source": [
    "import matplotlib.pyplot as plt"
   ]
  },
  {
   "cell_type": "code",
   "execution_count": 31,
   "id": "a193473b",
   "metadata": {},
   "outputs": [
    {
     "data": {
      "text/plain": [
       "[<matplotlib.lines.Line2D at 0x10f37a510>]"
      ]
     },
     "execution_count": 31,
     "metadata": {},
     "output_type": "execute_result"
    },
    {
     "data": {
      "image/png": "[encoded data removed]",
      "text/plain": [
       "<Figure size 1000x600 with 1 Axes>"
      ]
     },
     "metadata": {},
     "output_type": "display_data"
    }
   ],
   "source": [
    "plt.figure(figsize=(10,6))\n",
    "x=np.arange(0,20,0.1)\n",
    "plt.xlabel('x')\n",
    "plt.ylabel('f(x)')\n",
    "plt.plot(x,function_1(x))"
   ]
  },
  {
   "cell_type": "code",
   "execution_count": 32,
   "id": "2a038119",
   "metadata": {},
   "outputs": [
    {
     "data": {
      "text/plain": [
       "0.1999999999990898"
      ]
     },
     "execution_count": 32,
     "metadata": {},
     "output_type": "execute_result"
    }
   ],
   "source": [
    "numerical_diff(function_1,5)"
   ]
  },
  {
   "cell_type": "code",
   "execution_count": 33,
   "id": "37a22788",
   "metadata": {},
   "outputs": [
    {
     "data": {
      "text/plain": [
       "0.2999999999986347"
      ]
     },
     "execution_count": 33,
     "metadata": {},
     "output_type": "execute_result"
    }
   ],
   "source": [
    "numerical_diff(function_1,10)"
   ]
  },
  {
   "cell_type": "code",
   "execution_count": 34,
   "id": "94cfcb88",
   "metadata": {},
   "outputs": [],
   "source": [
    "def function_2(x):\n",
    "    return x[0]**2+x[1]**2"
   ]
  },
  {
   "cell_type": "code",
   "execution_count": 35,
   "id": "de48a67c",
   "metadata": {},
   "outputs": [],
   "source": [
    "def numerical_gradient(f,x):\n",
    "    #xとして与えるのは偏微分を求める点の配列 偏微分の配列を返す\n",
    "    h=1e-4\n",
    "    grad=np.zeros(x.shape[0])\n",
    "    for idx in range(x.size):#各変数ごとに処理を回す\n",
    "        tmp_val=x[idx]\n",
    "        x[idx]=tmp_val+h\n",
    "        fxh1=f(x)\n",
    "\n",
    "        x[idx]=tmp_val-h\n",
    "        fxh2=f(x)\n",
    "\n",
    "        grad[idx]=(fxh1-fxh2)/(2*h) #偏微分を入れる配列にぶち込む　右辺はidxについての偏微分\n",
    "        x[idx]=tmp_val\n",
    "\n",
    "    return grad"
   ]
  },
  {
   "cell_type": "code",
   "execution_count": 36,
   "id": "16dd91f8",
   "metadata": {},
   "outputs": [
    {
     "data": {
      "text/plain": [
       "array([6., 8.])"
      ]
     },
     "execution_count": 36,
     "metadata": {},
     "output_type": "execute_result"
    }
   ],
   "source": [
    "numerical_gradient(function_2,np.array([3.0,4.0]))"
   ]
  },
  {
   "cell_type": "code",
   "execution_count": 37,
   "id": "b238c031",
   "metadata": {},
   "outputs": [],
   "source": [
    "#極小となるxを求める勾配降下法を行っている\n",
    "def gradient_descent(f,init_x,lr=0.01,step_num=100):\n",
    "    x=init_x\n",
    "    for i in range(step_num):\n",
    "        grad=numerical_gradient(f,x)\n",
    "        x=x-lr*grad\n",
    "    return x"
   ]
  },
  {
   "cell_type": "code",
   "execution_count": 38,
   "id": "093dcc92",
   "metadata": {},
   "outputs": [],
   "source": [
    "def function_2(x):\n",
    "    return np.sum(x**2)"
   ]
  },
  {
   "cell_type": "code",
   "execution_count": 39,
   "id": "e6162257",
   "metadata": {},
   "outputs": [
    {
     "data": {
      "text/plain": [
       "array([ 6.35809854e-07, -8.90184721e-07])"
      ]
     },
     "execution_count": 39,
     "metadata": {},
     "output_type": "execute_result"
    }
   ],
   "source": [
    "gradient_descent(function_2,np.array([-3,4]),lr=0.1)"
   ]
  },
  {
   "cell_type": "code",
   "execution_count": 40,
   "id": "1b2a8a8c",
   "metadata": {},
   "outputs": [],
   "source": [
    "from common.functions import softmax, cross_entropy_error\n",
    "from common.gradient import numerical_gradient\n",
    "\n",
    "class simpleNet: #一層のニューラルネットワーク\n",
    "    def __init__(self): \n",
    "        self.W=np.random.randn(2,3) #Wは重みを表すもの\n",
    "    \n",
    "    def predict(self,x):\n",
    "        return np.dot(x,self.W)\n",
    "    \n",
    "    def loss(self,x,t):\n",
    "        z=self.predict(x)\n",
    "        y=softmax(z)\n",
    "        loss=cross_entropy_error(y,t)\n",
    "\n",
    "        return loss"
   ]
  },
  {
   "cell_type": "code",
   "execution_count": 41,
   "id": "d87c4876",
   "metadata": {},
   "outputs": [
    {
     "name": "stdout",
     "output_type": "stream",
     "text": [
      "[[ 0.75372754 -0.1376615   1.74368028]\n",
      " [ 0.50360213 -1.37413409 -1.15545521]]\n",
      "[ 0.90547844 -1.31931758  0.00629848]\n"
     ]
    }
   ],
   "source": [
    "net=simpleNet()\n",
    "print(net.W)\n",
    "x=np.array([0.6,0.9])\n",
    "p=net.predict(x)\n",
    "print(p) "
   ]
  },
  {
   "cell_type": "code",
   "execution_count": 42,
   "id": "16040ed0",
   "metadata": {},
   "outputs": [
    {
     "data": {
      "text/plain": [
       "np.float64(1.3145901877824973)"
      ]
     },
     "execution_count": 42,
     "metadata": {},
     "output_type": "execute_result"
    }
   ],
   "source": [
    "t=np.array([0,0,1])\n",
    "net.loss(x,t)"
   ]
  },
  {
   "cell_type": "code",
   "execution_count": 43,
   "id": "94e7e11c",
   "metadata": {},
   "outputs": [
    {
     "name": "stdout",
     "output_type": "stream",
     "text": [
      "[[ 0.39604137  0.0428079  -0.43884927]\n",
      " [ 0.59406206  0.06421185 -0.65827391]]\n"
     ]
    }
   ],
   "source": [
    "def f(W):\n",
    "    return net.loss(x,t)\n",
    "dW=numerical_gradient(f,net.W)\n",
    "print(dW)"
   ]
  },
  {
   "cell_type": "code",
   "execution_count": 44,
   "id": "e659a3d6",
   "metadata": {},
   "outputs": [],
   "source": [
    "#適当に重みを作って、その数字を元に勾配降下をして最適解を見つけるっていう時間"
   ]
  },
  {
   "cell_type": "code",
   "execution_count": 45,
   "id": "97dac9ac",
   "metadata": {},
   "outputs": [],
   "source": [
    "from common.functions import *\n",
    "from common.gradient import numerical_gradient\n",
    "\n",
    "class TwoLayerNet:\n",
    "\n",
    "    def __init__(self,input_size,hidden_size,output_size,weight_init_std=0.1):\n",
    "        #重みの初期化\n",
    "        self.params={}\n",
    "        self.params['W1']=weight_init_std*np.random.randn(input_size,hidden_size) #行列の形でW1を持つ\n",
    "        self.params['b1']=np.zeros(hidden_size)\n",
    "        self.params['W2']=weight_init_std*np.random.randn(hidden_size,output_size)\n",
    "        self.params['b2']=np.zeros(output_size)\n",
    "    \n",
    "    def predict(self,x):\n",
    "        W1,W2=self.params['W1'],self.params['W2']\n",
    "        b1,b2=self.params['b1'],self.params['b2']\n",
    "\n",
    "        a1=np.dot(x,W1)+b1\n",
    "        z1=sigmoid(a1)\n",
    "        a2=np.dot(z1,W2)+b2\n",
    "        y=softmax(a2)\n",
    "\n",
    "        return y\n",
    "\n",
    "    def loss(self,x,t): #クロスエントロピー誤差\n",
    "        y=self.predict(x)\n",
    "\n",
    "        return cross_entropy_error(y,t)\n",
    "\n",
    "    def accuracy(self,x,t):\n",
    "        y=self.predict(x)\n",
    "        y=np.argmax(y,axis=1)\n",
    "        t=np.argmax(t,axis=1)\n",
    "\n",
    "        accuracy=np.sum(y==t)/float(x.shape[0])\n",
    "        return accuracy\n",
    "\n",
    "    def numerical_gradient(self,x,t): #損失関数に対する偏微分の配列を返す→損失関数を最小にするパラメーターを求めたいから！\n",
    "        loss_W=lambda W : self.loss(x,t) #損失関数\n",
    "\n",
    "        grads={}\n",
    "        grads['W1']=numerical_gradient(loss_W,self.params['W1'])\n",
    "        grads['b1']=numerical_gradient(loss_W,self.params['b1'])     \n",
    "        grads['W2']=numerical_gradient(loss_W,self.params['W2'])     \n",
    "        grads['b2']=numerical_gradient(loss_W,self.params['b2'])     \n",
    "\n",
    "        return grads\n",
    "        "
   ]
  },
  {
   "cell_type": "code",
   "execution_count": 46,
   "id": "1dd4cf4a",
   "metadata": {},
   "outputs": [
    {
     "data": {
      "text/plain": [
       "(10,)"
      ]
     },
     "execution_count": 46,
     "metadata": {},
     "output_type": "execute_result"
    }
   ],
   "source": [
    "net=TwoLayerNet(input_size=784,hidden_size=100,output_size=10) #28*28の画像のデータ,隠れ層100、ラベル10\n",
    "net.params['W1'].shape\n",
    "net.params['b1'].shape\n",
    "net.params['W2'].shape\n",
    "net.params['b2'].shape"
   ]
  },
  {
   "cell_type": "code",
   "execution_count": 47,
   "id": "9a84ff1c",
   "metadata": {},
   "outputs": [],
   "source": [
    "###\n",
    "(x_train,t_train),(x_test,t_test)=load_mnist(normalize=True,one_hot_label=True)\n",
    "train_loss_list=[]\n",
    "\n",
    "iters_num=10000\n",
    "train_size=x_train.shape[0]\n",
    "batch_size=100\n",
    "learning_rate=0.1\n",
    "\n",
    "network=TwoLayerNet(input_size=784,hidden_size=100,output_size=10)\n",
    "#バッチの作成\n",
    "#for i in range(iters_num):\n",
    "    #batch_mask=np.random.choice(train_size,batch_size)\n",
    "    #x_batch=x_train[batch_mask]\n",
    "    #t_batch=t_train[batch_mask]\n",
    "\n",
    "    #勾配の計算\n",
    "    #grad=network.numerical_gradient(x_batch,t_batch)\n",
    "\n",
    "    #for key in ('W1','b1','W2','b2'):\n",
    "        #network.params[key]=network.params[key]-learning_rate*grad[key] #パラメーターの損失関数に関する勾配を使ってパラメーターを更新\n",
    "\n",
    "    #loss=network.loss(x_batch,t_batch)\n",
    "\n",
    "   # train_loss_list.append(loss)\n",
    "###"
   ]
  },
  {
   "cell_type": "code",
   "execution_count": 48,
   "id": "8c28bb42",
   "metadata": {},
   "outputs": [
    {
     "ename": "NameError",
     "evalue": "name 'grad' is not defined",
     "output_type": "error",
     "traceback": [
      "\u001b[31m---------------------------------------------------------------------------\u001b[39m",
      "\u001b[31mNameError\u001b[39m                                 Traceback (most recent call last)",
      "\u001b[36mCell\u001b[39m\u001b[36m \u001b[39m\u001b[32mIn[48]\u001b[39m\u001b[32m, line 15\u001b[39m\n\u001b[32m     12\u001b[39m \u001b[38;5;66;03m#grad=network.numerical_gradient(x_batch,t_batch)\u001b[39;00m\n\u001b[32m     14\u001b[39m \u001b[38;5;28;01mfor\u001b[39;00m key \u001b[38;5;129;01min\u001b[39;00m (\u001b[33m'\u001b[39m\u001b[33mW1\u001b[39m\u001b[33m'\u001b[39m,\u001b[33m'\u001b[39m\u001b[33mb1\u001b[39m\u001b[33m'\u001b[39m,\u001b[33m'\u001b[39m\u001b[33mW2\u001b[39m\u001b[33m'\u001b[39m,\u001b[33m'\u001b[39m\u001b[33mb2\u001b[39m\u001b[33m'\u001b[39m):\n\u001b[32m---> \u001b[39m\u001b[32m15\u001b[39m     network.params[key] -= learning_rate*\u001b[43mgrad\u001b[49m[key]\n\u001b[32m     17\u001b[39m loss=network.loss(x_batch,t_batch)\n\u001b[32m     18\u001b[39m train_loss_list.append(loss)\n",
      "\u001b[31mNameError\u001b[39m: name 'grad' is not defined"
     ]
    }
   ],
   "source": [
    "train_loss_list=[]\n",
    "train_acc_list=[]\n",
    "test_acc_list=[]\n",
    "iter_per_epoch=max(train_size/batch_size,1)\n",
    "network=TwoLayerNet(input_size=784,hidden_size=100,output_size=10)\n",
    "\n",
    "for i in range(iters_num):\n",
    "    batch_mask=np.random.choice(train_size,batch_size)\n",
    "    x_batch=x_train[batch_mask]\n",
    "    t_batch=t_train[batch_mask]\n",
    "    \n",
    "    #grad=network.numerical_gradient(x_batch,t_batch)\n",
    "\n",
    "    for key in ('W1','b1','W2','b2'):\n",
    "        network.params[key] -= learning_rate*grad[key]\n",
    "\n",
    "    loss=network.loss(x_batch,t_batch)\n",
    "    train_loss_list.append(loss)\n",
    "\n",
    "    if i%iter_per_epoch==0:\n",
    "        train_acc=network.accuracy(x_train,t_train)\n",
    "        test_acc=network.accuracy(x_test,t_test)\n",
    "        train_acc_list.append(train_acc)\n",
    "        test_acc_list.append(test_acc)\n"
   ]
  },
  {
   "cell_type": "code",
   "execution_count": null,
   "id": "875b87f1",
   "metadata": {},
   "outputs": [],
   "source": [
    "#誤差逆転ぱん"
   ]
  },
  {
   "cell_type": "code",
   "execution_count": 49,
   "id": "795aa47a",
   "metadata": {},
   "outputs": [],
   "source": [
    "class MulLayer:\n",
    "    def __init__(self):\n",
    "        self.x=None\n",
    "        self.y=None\n",
    "    def forward(self,x,y):\n",
    "        self.x=x #このインスタンス内の変数として保存している\n",
    "        self.y=y\n",
    "        return x*y\n",
    "    def backward(self,dout):\n",
    "        dx=dout*self.y\n",
    "        dy=dout*self.x\n",
    "\n",
    "        return dx,dy"
   ]
  },
  {
   "cell_type": "code",
   "execution_count": 50,
   "id": "d81a076b",
   "metadata": {},
   "outputs": [
    {
     "name": "stdout",
     "output_type": "stream",
     "text": [
      "220.00000000000003\n"
     ]
    }
   ],
   "source": [
    "apple=100\n",
    "apple_num=2\n",
    "tax=1.1\n",
    "\n",
    "mul_apple_layer=MulLayer() #二つインスタンス化する必要あんのか？？？\n",
    "mul_tax_layer=MulLayer()\n",
    "\n",
    "apple_price=mul_apple_layer.forward(apple,apple_num)\n",
    "price=mul_apple_layer.forward(apple_price,tax)\n",
    "\n",
    "print(price)"
   ]
  },
  {
   "cell_type": "code",
   "execution_count": 51,
   "id": "b9df7051",
   "metadata": {},
   "outputs": [
    {
     "name": "stdout",
     "output_type": "stream",
     "text": [
      "220.00000000000003 40000 200 1.1\n"
     ]
    }
   ],
   "source": [
    "#逆転\n",
    "dprice=1\n",
    "dapple_price,dtax=mul_apple_layer.backward(dprice)\n",
    "dapple,dapple_num=mul_apple_layer.backward(apple_price)\n",
    "print(dapple,dapple_num,dtax,dapple_price)"
   ]
  },
  {
   "cell_type": "code",
   "execution_count": 52,
   "id": "7cf0dc34",
   "metadata": {},
   "outputs": [],
   "source": [
    "class AddLayer:\n",
    "    def __init__(self):\n",
    "        pass\n",
    "    def forward(self,x,y):\n",
    "        self.x=x\n",
    "        self.y=y\n",
    "\n",
    "        return x+y\n",
    "    def backward(self,dout):\n",
    "\n",
    "        dx=dout*1\n",
    "        dy=dout*1\n",
    "\n",
    "        return dx,dy"
   ]
  },
  {
   "cell_type": "code",
   "execution_count": 53,
   "id": "be6113ba",
   "metadata": {},
   "outputs": [
    {
     "name": "stdout",
     "output_type": "stream",
     "text": [
      "715.0000000000001\n",
      "110.00000000000001 2.2 165.0 3.3000000000000003 650\n"
     ]
    }
   ],
   "source": [
    "apple_num=2\n",
    "apple=100\n",
    "orange_num=3\n",
    "orange=150\n",
    "tax=1.1\n",
    "\n",
    "mul_apple_layer=MulLayer()\n",
    "mul_orange_layer=MulLayer()\n",
    "add_layer=AddLayer()\n",
    "mul_tax_layer=MulLayer()\n",
    "\n",
    "apple_price=mul_apple_layer.forward(apple_num,apple)\n",
    "orange_price=mul_orange_layer.forward(orange_num,orange)\n",
    "all_price=add_layer.forward(apple_price,orange_price)\n",
    "price=mul_tax_layer.forward(all_price,tax)\n",
    "\n",
    "dprice=1\n",
    "dall_price,dtax=mul_tax_layer.backward(dprice)\n",
    "dapple_price,dorange_price=add_layer.backward(dall_price)\n",
    "dapple_num,dapple=mul_apple_layer.backward(dapple_price)\n",
    "dorange,dorange_num=mul_orange_layer.backward(dorange_price)\n",
    "\n",
    "print(price)\n",
    "print(dapple_num,dapple,dorange,dorange_num,dtax)\n"
   ]
  },
  {
   "cell_type": "code",
   "execution_count": null,
   "id": "0d1e0139",
   "metadata": {},
   "outputs": [],
   "source": [
    "#ニューラルネットを計算グラフで表そう"
   ]
  },
  {
   "cell_type": "code",
   "execution_count": 54,
   "id": "bf7340e7",
   "metadata": {},
   "outputs": [],
   "source": [
    "class Relu:\n",
    "    def __init__(self):\n",
    "        self.mask=None\n",
    "    def forward(self,x):\n",
    "        self.mask=(x<=0)\n",
    "        out=x.copy()\n",
    "        out[self.mask]=0\n",
    "\n",
    "        return out\n",
    "    def backward(self,dout):\n",
    "        dout[self.mask]=0\n",
    "        dx=dout\n",
    "\n",
    "        return dout"
   ]
  },
  {
   "cell_type": "code",
   "execution_count": 55,
   "id": "13bffd6b",
   "metadata": {},
   "outputs": [],
   "source": [
    "class sigmoid:\n",
    "    def __init__(self):\n",
    "        self.out=None\n",
    "    def forward(self,x):\n",
    "        out=1/(1+np.exp(-x))\n",
    "        self.out=out\n",
    "\n",
    "        return out\n",
    "    def backward(self,dout):\n",
    "        dx=dout*(1.0-self.out)*self.out #self.outに結果を保持しているからできる self.outはyと等しい\n",
    "\n",
    "        return dx"
   ]
  },
  {
   "cell_type": "code",
   "execution_count": 56,
   "id": "a0a76e91",
   "metadata": {},
   "outputs": [],
   "source": [
    "class Affine:\n",
    "    def __init__(self,W,b):\n",
    "        self.W=W\n",
    "        self.b=b\n",
    "        self.x=None\n",
    "        self.dW=None\n",
    "        self.db=None\n",
    "\n",
    "    def forward(self,x):\n",
    "        self.x=x\n",
    "        out=np.dot(x,self.W)+self.b\n",
    "\n",
    "        return out\n",
    "    \n",
    "    def backward(self,dout):\n",
    "        dx=np.dot(dout,self.W.T)\n",
    "        self.dW=np.dot(self.x.T,dout) #ここから下のところいらなくないか\n",
    "        self.db=np.sum(dout,axis=0)\n",
    "\n",
    "        return dx"
   ]
  },
  {
   "cell_type": "code",
   "execution_count": 57,
   "id": "82b97637",
   "metadata": {},
   "outputs": [],
   "source": [
    "class SoftmaxWithloss:\n",
    "    def __init__(self):\n",
    "        self.loss=None #損失\n",
    "        self.y=None #ソフトマックスの出力\n",
    "        self.t=None #正解ラベル（ワンホット）\n",
    "\n",
    "    def forward(self,x,t):\n",
    "        self.t=t\n",
    "        self.y=softmax(x)\n",
    "        self.loss=cross_entropy_error(self.y,self.t)\n",
    "\n",
    "        return self.loss\n",
    "    \n",
    "    def backward(self,dout=1):\n",
    "        batch_size=self.t.shape[0]\n",
    "        dx=(self.y-self.t)/batch_size\n",
    "\n",
    "        return dx"
   ]
  },
  {
   "cell_type": "code",
   "execution_count": null,
   "id": "3b36ca59",
   "metadata": {},
   "outputs": [],
   "source": [
    "from common.gradient import numerical_gradient\n",
    "from common.layers import *\n",
    "from collections import OrderedDict"
   ]
  },
  {
   "cell_type": "code",
   "execution_count": 69,
   "id": "eaf32298",
   "metadata": {},
   "outputs": [],
   "source": [
    "from common.multi_layer_net import MultiLayerNet"
   ]
  },
  {
   "cell_type": "code",
   "execution_count": 68,
   "id": "9206c28c",
   "metadata": {},
   "outputs": [],
   "source": [
    "class TwoLayerNet:\n",
    "    def __init__(self,input_size,hidden_size,output_size,weight_init_std=0.01):\n",
    "        self.params={}\n",
    "        self.params['W1']=weight_init_std*np.random.randn(input_size,hidden_size)\n",
    "        self.params['b1']=np.zeros(hidden_size)\n",
    "        self.params['W2']=weight_init_std*np.random.randn(hidden_size,output_size)\n",
    "        self.params['b2']=np.zeros(output_size)\n",
    "\n",
    "        self.layers=OrderedDict()\n",
    "        self.layers['Affine1']=Affine(self.params['W1'],self.params['b1']) #下はインスタンス化\n",
    "        self.layers['Relu1']=Relu()\n",
    "        self.layers['Affine2']=Affine(self.params['W2'],self.params['b2'])\n",
    "\n",
    "        self.lastLayer=SoftmaxWithloss() #最後の層はソフトマックス＋損失関数\n",
    "\n",
    "    def predict(self,x):\n",
    "        for layer in self.layers.values():\n",
    "            x=layer.forward(x)\n",
    "\n",
    "        return x\n",
    "    \n",
    "    def loss(self,x,t):\n",
    "        y=self.predict(x)\n",
    "        return self.lastLayer.forward(y,t)\n",
    "    \n",
    "    def accuracy(self,x,t):\n",
    "        y=self.predict(x)\n",
    "        y=np.argmax(y,axis=1)\n",
    "\n",
    "        if t.ndim==1: t=np.argmax(t,axis=1)\n",
    "\n",
    "        accuracy=np.sum(y==t)/float(x.shape[0])\n",
    "        return accuracy\n",
    "    \n",
    "  \n",
    "    def numerical_gradient(self,x,t): #損失関数に対する偏微分の配列を返す→損失関数を最小にするパラメーターを求めたいから！\n",
    "        loss_W=lambda W : self.loss(x,t) #損失関数\n",
    "\n",
    "        grads={}\n",
    "        grads['W1']=numerical_gradient(loss_W,self.params['W1'])\n",
    "        grads['b1']=numerical_gradient(loss_W,self.params['b1'])     \n",
    "        grads['W2']=numerical_gradient(loss_W,self.params['W2'])     \n",
    "        grads['b2']=numerical_gradient(loss_W,self.params['b2'])     \n",
    "\n",
    "        return grads\n",
    "    \n",
    "    def gradient(self,x,t):\n",
    "\n",
    "        #forward\n",
    "        self.loss(x,t)\n",
    "\n",
    "        #backward\n",
    "        dout=1\n",
    "        dout=self.lastLayer.backward(dout)\n",
    "\n",
    "        layers=list(self.layers.values)\n",
    "        layers.reverse()\n",
    "        for layer in layers:\n",
    "            dout=layer.backward(dout)\n",
    "\n",
    "        grads={}\n",
    "        grads['W1']=self.layers['Affine1'].dW\n",
    "        grads['b1']=self.layers['Affine1'].db\n",
    "        grads['W2']=self.layers['Affine2'].dW\n",
    "        grads['b2']=self.layers['Affine2'].db\n",
    "\n",
    "        return grads"
   ]
  },
  {
   "cell_type": "code",
   "execution_count": null,
   "id": "bac2cd8b",
   "metadata": {},
   "outputs": [],
   "source": [
    "#パラメータの最適化"
   ]
  },
  {
   "cell_type": "code",
   "execution_count": 60,
   "id": "436add03",
   "metadata": {},
   "outputs": [],
   "source": [
    "class SGD:\n",
    "    def __init__(self,lr=0.01):\n",
    "        self.lr=lr\n",
    "    def update(self,params,grads):\n",
    "        for key in params.keys():\n",
    "            params[key] -=self.lr*grads[key] #勾配の急な方向に進みましょう"
   ]
  },
  {
   "cell_type": "code",
   "execution_count": 61,
   "id": "6e0a547e",
   "metadata": {},
   "outputs": [],
   "source": [
    "class Momentum:\n",
    "    def __init__(self,lr=0.01,memontum=0.9):\n",
    "        self.lr=lr\n",
    "        self.momentum=Momentum\n",
    "        self.v=None\n",
    "    def update(self,params,grads):\n",
    "        if self.v==None: #初めて呼ばれる時に、パラメーターと同じ構造を辞書型で作る。\n",
    "            self.v={}\n",
    "            for key,val in params.items():\n",
    "                self.v[key]=np.zeros_like(val)\n",
    "        for key in params.keys():\n",
    "            self.v[key]=self.momentum*self.v[key]-self.lr*grads[key]\n",
    "            self.params[key] += self.v[key]"
   ]
  },
  {
   "cell_type": "code",
   "execution_count": 62,
   "id": "8aa37cfe",
   "metadata": {},
   "outputs": [],
   "source": [
    "class AdaGrad: #学習率を変えられますよってやつ\n",
    "    def __init__(self,lr=0.01):\n",
    "        self.lr=lr\n",
    "        self.h=None\n",
    "    def forward(self,params,grads):\n",
    "        if self.h==None:\n",
    "            self.h={}\n",
    "            for key,val in params.item():\n",
    "                self.h[key]=np.zeros_like(val)\n",
    "        for key in params.keys():\n",
    "            self.h[key] += grads[key]*grads[key]\n",
    "            params[key] = params[key] - self.lr*grads[key]/(np.sqrt(self.h[key])+1e-7)"
   ]
  },
  {
   "cell_type": "code",
   "execution_count": 63,
   "id": "c4e07798",
   "metadata": {},
   "outputs": [
    {
     "name": "stdout",
     "output_type": "stream",
     "text": [
      "Requirement already satisfied: matplotlib in ./venv/lib/python3.12/site-packages (3.10.5)\n",
      "Requirement already satisfied: contourpy>=1.0.1 in ./venv/lib/python3.12/site-packages (from matplotlib) (1.3.3)\n",
      "Requirement already satisfied: cycler>=0.10 in ./venv/lib/python3.12/site-packages (from matplotlib) (0.12.1)\n",
      "Requirement already satisfied: fonttools>=4.22.0 in ./venv/lib/python3.12/site-packages (from matplotlib) (4.59.1)\n",
      "Requirement already satisfied: kiwisolver>=1.3.1 in ./venv/lib/python3.12/site-packages (from matplotlib) (1.4.9)\n",
      "Requirement already satisfied: numpy>=1.23 in ./venv/lib/python3.12/site-packages (from matplotlib) (2.3.2)\n",
      "Requirement already satisfied: packaging>=20.0 in ./venv/lib/python3.12/site-packages (from matplotlib) (25.0)\n",
      "Requirement already satisfied: pillow>=8 in ./venv/lib/python3.12/site-packages (from matplotlib) (11.3.0)\n",
      "Requirement already satisfied: pyparsing>=2.3.1 in ./venv/lib/python3.12/site-packages (from matplotlib) (3.2.3)\n",
      "Requirement already satisfied: python-dateutil>=2.7 in ./venv/lib/python3.12/site-packages (from matplotlib) (2.9.0.post0)\n",
      "Requirement already satisfied: six>=1.5 in ./venv/lib/python3.12/site-packages (from python-dateutil>=2.7->matplotlib) (1.17.0)\n",
      "Note: you may need to restart the kernel to use updated packages.\n"
     ]
    }
   ],
   "source": [
    "%pip install matplotlib"
   ]
  },
  {
   "cell_type": "code",
   "execution_count": 64,
   "id": "00635116",
   "metadata": {},
   "outputs": [],
   "source": [
    "import matplotlib.pyplot as plt"
   ]
  },
  {
   "cell_type": "code",
   "execution_count": 65,
   "id": "d8046da6",
   "metadata": {},
   "outputs": [],
   "source": [
    "def sigmoid(x):\n",
    "    return 1/(1+np.exp(-x))\n",
    "\n",
    "x=np.random.randn(1000,100) #1000個のデータ\n",
    "node_num=100\n",
    "hidden_layer_size=5\n",
    "activations={}\n",
    "for i in range(hidden_layer_size):\n",
    "    if i!=0:\n",
    "        x=activations[i-1] #一層目以外は前の出力をそのまま次に渡す（一層目は初期値があるから良い）\n",
    "    w=np.random.randn(node_num,node_num)/np.sqrt(node_num)\n",
    "    z=np.dot(x,w)\n",
    "    a=sigmoid(z)\n",
    "    activations[i]=a"
   ]
  },
  {
   "cell_type": "code",
   "execution_count": 66,
   "id": "1b48aebb",
   "metadata": {},
   "outputs": [
    {
     "data": {
      "image/png": "[encoded data removed]",
      "text/plain": [
       "<Figure size 640x480 with 5 Axes>"
      ]
     },
     "metadata": {},
     "output_type": "display_data"
    }
   ],
   "source": [
    "for i, a in activations.items():\n",
    "    plt.subplot(1,len(activations),i+1)\n",
    "    plt.title(str(i+1)+'-layer')\n",
    "    plt.hist(a.flatten(),30,range=(0,1))"
   ]
  },
  {
   "cell_type": "code",
   "execution_count": 67,
   "id": "dfc443a9",
   "metadata": {},
   "outputs": [],
   "source": [
    "(x_train,t_train),(x_test,t_test)=load_mnist(normalize=True)\n",
    "x_train=x_train[:300]\n",
    "t_train=t_train[:300]"
   ]
  },
  {
   "cell_type": "code",
   "execution_count": null,
   "id": "148710b5",
   "metadata": {},
   "outputs": [],
   "source": []
  },
  {
   "cell_type": "code",
   "execution_count": 71,
   "id": "d3f2b67f",
   "metadata": {},
   "outputs": [],
   "source": [
    "network=MultiLayerNet(input_size=784,hidden_size_list=[100,100,100,100,100,100],output_size=10)\n",
    "optimizer=SGD(lr=0.01)\n",
    "max_epochs=201\n",
    "train_size=x_train.shape[0]\n",
    "batch_size=100\n",
    "\n",
    "train_loss_list=[]\n",
    "train_acc_list=[]\n",
    "test_acc_list=[]\n",
    "iter_per_epoch=max(train_size/batch_size,1)\n",
    "epoch_cnt=0\n",
    "\n",
    "for i in range(1000000):\n",
    "    batch_mask=np.random.choice(train_size,batch_size)\n",
    "    x_batch=x_train[batch_mask]\n",
    "    t_batch=t_train[batch_mask]\n",
    "\n",
    "    grads=network.gradient(x_batch,t_batch)\n",
    "    optimizer.update(network.params,grads)\n",
    "\n",
    "    if i % iter_per_epoch==0:\n",
    "        train_acc=network.accuracy(x_train,t_train)\n",
    "        test_acc=network.accuracy(x_test,t_test)\n",
    "        train_acc_list.append(train_acc)\n",
    "        test_acc_list.append(test_acc)\n",
    "\n",
    "        epoch_cnt +=1\n",
    "        if epoch_cnt >= max_epochs:\n",
    "            break"
   ]
  },
  {
   "cell_type": "code",
   "execution_count": null,
   "id": "07ece44a",
   "metadata": {},
   "outputs": [
    {
     "data": {
      "text/plain": [
       "<matplotlib.legend.Legend at 0x10f6bb860>"
      ]
     },
     "execution_count": 73,
     "metadata": {},
     "output_type": "execute_result"
    },
    {
     "data": {
      "image/png": "[encoded data removed]",
      "text/plain": [
       "<Figure size 640x480 with 1 Axes>"
      ]
     },
     "metadata": {},
     "output_type": "display_data"
    }
   ],
   "source": [
    "plt.plot(np.arange(epoch_cnt),train_acc_list,label='train')\n",
    "plt.plot(np.arange(max_epochs),test_acc_list,label='test')\n",
    "plt.legend() #明らかに過学習している！"
   ]
  },
  {
   "cell_type": "code",
   "execution_count": null,
   "id": "0b011635",
   "metadata": {},
   "outputs": [],
   "source": [
    "#drop_out"
   ]
  },
  {
   "cell_type": "code",
   "execution_count": null,
   "id": "f393f440",
   "metadata": {},
   "outputs": [],
   "source": [
    "class Dropout:\n",
    "    def __init__(self,dropout_ratio=0.5):\n",
    "        self.dropout_ratio=dropout_ratio\n",
    "        self.mask=None\n",
    "    def forward(self,x,train_flg=True):\n",
    "        if train_flg:\n",
    "            self.mask=np.random.rand(*x.shape)>self.dropout_ratio #ランダムでtrue,falseを生成する0.1とかだったらほとんどfalseになっちゃう\n",
    "            return x*self.mask #ブール値はTrue→1 False→0で解釈されるから、単純にかけるだけでニューロン消せる\n",
    "        else:\n",
    "            return x*(1.0-self.dropout_ratio) #trainじゃないとき、xに消去した割合を乗算する\n",
    "        \n",
    "    def backward(self,dout):\n",
    "        return dout*self.mask"
   ]
  },
  {
   "cell_type": "code",
   "execution_count": null,
   "id": "67ea1f5a",
   "metadata": {},
   "outputs": [],
   "source": [
    "#ハイパーパラメータ"
   ]
  },
  {
   "cell_type": "code",
   "execution_count": 79,
   "id": "22669142",
   "metadata": {},
   "outputs": [],
   "source": [
    "from common.util import shuffle_dataset"
   ]
  },
  {
   "cell_type": "code",
   "execution_count": 81,
   "id": "91916c8a",
   "metadata": {},
   "outputs": [],
   "source": [
    "(x_train,t_train),(x_test,t_test)=load_mnist()\n",
    "\n",
    "x_train,t_train=shuffle_dataset(x_train,t_train)\n",
    "validation_rate=0.2\n",
    "validation_num=int(len(x_train)*validation_rate)\n",
    "\n",
    "x_val=x_train[:validation_num]\n",
    "t_val=x_train[:validation_num]\n",
    "x_train=x_train[validation_num:]\n",
    "t_train=t_train[validation_num:]"
   ]
  },
  {
   "cell_type": "code",
   "execution_count": null,
   "id": "3c009dac",
   "metadata": {},
   "outputs": [],
   "source": []
  },
  {
   "cell_type": "code",
   "execution_count": 93,
   "id": "39720e32",
   "metadata": {},
   "outputs": [],
   "source": [
    "weight_decay=10**np.random.uniform(-8,-4)\n",
    "lr=10**np.random.uniform(-6,-2)"
   ]
  },
  {
   "cell_type": "code",
   "execution_count": 94,
   "id": "e4b4f288",
   "metadata": {},
   "outputs": [
    {
     "data": {
      "text/plain": [
       "9.557319098930924e-08"
      ]
     },
     "execution_count": 94,
     "metadata": {},
     "output_type": "execute_result"
    }
   ],
   "source": [
    "weight_decay"
   ]
  },
  {
   "cell_type": "code",
   "execution_count": null,
   "id": "b56b9bdf",
   "metadata": {},
   "outputs": [],
   "source": [
    "import numpy as np\n",
    "\n",
    "def im2col(input_data, filter_h, filter_w, stride=1, pad=0):\n",
    "    \"\"\"\n",
    "    Parameters\n",
    "    ----------\n",
    "    input_data : (N, C, H, W) の 4次元配列（N: データ数, C: チャンネル数）\n",
    "    filter_h : フィルタの高さ\n",
    "    filter_w : フィルタの幅\n",
    "    stride : ストライド\n",
    "    pad : パディング\n",
    "\n",
    "    Returns\n",
    "    -------\n",
    "    col : 2次元配列 (N*out_h*out_w, C*filter_h*filter_w)\n",
    "    \"\"\"\n",
    "    N, C, H, W = input_data.shape\n",
    "    out_h = (H + 2*pad - filter_h)//stride + 1 #出力層の高さの形の設計\n",
    "    out_w = (W + 2*pad - filter_w)//stride + 1 #出力層の横の形の設計\n",
    "\n",
    "    img = np.pad(input_data, [(0,0), (0,0), (pad, pad), (pad, pad)], 'constant') #padding\n",
    "    col = np.zeros((N, C, filter_h, filter_w, out_h, out_w)) #あとで二次元に直す\n",
    "\n",
    "    for y in range(filter_h):\n",
    "        y_max = y + stride*out_h #フィルターの上がyの時の高さのはじ\n",
    "        for x in range(filter_w):\n",
    "            x_max = x + stride*out_w #↑の時にフィルターの左端がxの時の右端\n",
    "            col[:, :, y, x, :, :] = img[:, :, y:y_max:stride, x:x_max:stride] #フィルタをかけた時のパッチをスライスを利用して取り出している！\n",
    "\n",
    "    col = col.transpose(0, 4, 5, 1, 2, 3).reshape(N*out_h*out_w, -1) #行方向は各パッチの値を１行にまとめたもの。列方向はパッチ内での位置関係\n",
    "    return col\n"
   ]
  },
  {
   "cell_type": "code",
   "execution_count": null,
   "id": "4cbf4f3f",
   "metadata": {},
   "outputs": [],
   "source": [
    "from common.util import im2col #パッチとフィルタを行、列の形にまとめることで計算を行列積で表せるようにしている\n",
    "x1=np.random.rand(1,3,7,7) #チャネル7 9✖️9のデータが一つあるよ\n",
    "col1=im2col(x1,5,5,stride=1,pad=0) #データに重みをかけたものを二次元データに変更"
   ]
  },
  {
   "cell_type": "code",
   "execution_count": 99,
   "id": "fdedc1e2",
   "metadata": {},
   "outputs": [
    {
     "name": "stdout",
     "output_type": "stream",
     "text": [
      "(9, 75)\n"
     ]
    }
   ],
   "source": [
    "print(col1.shape)"
   ]
  },
  {
   "cell_type": "code",
   "execution_count": 100,
   "id": "298044f4",
   "metadata": {},
   "outputs": [
    {
     "name": "stdout",
     "output_type": "stream",
     "text": [
      "(90, 75)\n"
     ]
    }
   ],
   "source": [
    "x2=np.random.rand(10,3,7,7)\n",
    "col2=im2col(x2,5,5,stride=1,pad=0)\n",
    "print(col2.shape)"
   ]
  },
  {
   "cell_type": "code",
   "execution_count": null,
   "id": "27cf7a0a",
   "metadata": {},
   "outputs": [],
   "source": [
    "class Convolution:\n",
    "    def __init__(self,W,b,stride=1,pad=0):\n",
    "        self.W=W\n",
    "        self.b=b\n",
    "        self.pad=pad\n",
    "        self.stride=stride\n",
    "    def forward(self,x):\n",
    "        FN,C,FH,FW=self.W.shape\n",
    "        N,C,H,W=x.shape\n",
    "        out_h=int(1+(H+2*self.pad-FH)//self.stride)\n",
    "        out_w=int(1+(W+2*self.pad-FW)//self.stride)\n",
    "        col=im2col(x,FH,FW,self.stride,self.pad)  #行にバッチ（フィルターをかけた時の値を１行にしたやつ）、列にフィルターの中の位置を入れてるもの、(N*out_h*out_w,C*FH*FW)\n",
    "        col_W=self.W.reshape(FN,-1).T #フィルターを一列に並べたものをいっぱい集めた行列 (C*FH*FW,FN)\n",
    "        out=np.dot(col,col_W)+self.b\n",
    "\n",
    "        out=out.reshape(N,out_h,out_w,-1).transpose(0,3,1,2) #(N,C,H,W)の形に戻している\n",
    "        return out"
   ]
  },
  {
   "cell_type": "code",
   "execution_count": 103,
   "id": "f49c9ee2",
   "metadata": {},
   "outputs": [],
   "source": [
    "class Pooling:\n",
    "    def __init__(self,pool_h,pool_w,stride=2,pad=0):\n",
    "        self.pool_h=pool_h\n",
    "        self.pool_w=pool_w\n",
    "        self.stride=stride\n",
    "        self.pad=pad\n",
    "    def forward(self,x):\n",
    "        N,C,H,W=x.shape\n",
    "        out_h=int(1+(H-self.pool_h+2*self.pad)//self.stride)\n",
    "        out_w=int(1+(W-self.pool_w+2*self.pad)//self.stride)\n",
    "\n",
    "        col=im2col(x,self.pool_h,self.pool_w,self.stride,self.pad)\n",
    "        col=col.reshape(-1,self.pool_h*self.pool_w) #行は知らんけど列はpoolの形\n",
    "\n",
    "        out=np.max(col,axis=1)\n",
    "\n",
    "        out=out.reshape(N,out_h,out_w,C).transpose(0,3,1,2)\n",
    "\n",
    "        return out\n"
   ]
  },
  {
   "cell_type": "code",
   "execution_count": null,
   "id": "6a203280",
   "metadata": {},
   "outputs": [],
   "source": []
  }
 ],
 "metadata": {
  "kernelspec": {
   "display_name": "venv (3.12.4)",
   "language": "python",
   "name": "python3"
  },
  "language_info": {
   "codemirror_mode": {
    "name": "ipython",
    "version": 3
   },
   "file_extension": ".py",
   "mimetype": "text/x-python",
   "name": "python",
   "nbconvert_exporter": "python",
   "pygments_lexer": "ipython3",
   "version": "3.12.4"
  }
 },
 "nbformat": 4,
 "nbformat_minor": 5
}
