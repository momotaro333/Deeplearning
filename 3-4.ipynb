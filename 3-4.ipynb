{
 "cells": [
  {
   "cell_type": "markdown",
   "id": "46ac4bd5",
   "metadata": {},
   "source": [
    "3-4"
   ]
  },
  {
   "cell_type": "code",
   "execution_count": 135,
   "id": "4f121a15",
   "metadata": {},
   "outputs": [
    {
     "name": "stdout",
     "output_type": "stream",
     "text": [
      "Requirement already satisfied: numpy in ./.venv/lib/python3.13/site-packages (2.3.2)\n",
      "\n",
      "\u001b[1m[\u001b[0m\u001b[34;49mnotice\u001b[0m\u001b[1;39;49m]\u001b[0m\u001b[39;49m A new release of pip is available: \u001b[0m\u001b[31;49m24.3.1\u001b[0m\u001b[39;49m -> \u001b[0m\u001b[32;49m25.2\u001b[0m\n",
      "\u001b[1m[\u001b[0m\u001b[34;49mnotice\u001b[0m\u001b[1;39;49m]\u001b[0m\u001b[39;49m To update, run: \u001b[0m\u001b[32;49mpip install --upgrade pip\u001b[0m\n",
      "Note: you may need to restart the kernel to use updated packages.\n",
      "Requirement already satisfied: pandas in ./.venv/lib/python3.13/site-packages (2.3.1)\n",
      "Requirement already satisfied: numpy>=1.26.0 in ./.venv/lib/python3.13/site-packages (from pandas) (2.3.2)\n",
      "Requirement already satisfied: python-dateutil>=2.8.2 in ./.venv/lib/python3.13/site-packages (from pandas) (2.9.0.post0)\n",
      "Requirement already satisfied: pytz>=2020.1 in ./.venv/lib/python3.13/site-packages (from pandas) (2025.2)\n",
      "Requirement already satisfied: tzdata>=2022.7 in ./.venv/lib/python3.13/site-packages (from pandas) (2025.2)\n",
      "Requirement already satisfied: six>=1.5 in ./.venv/lib/python3.13/site-packages (from python-dateutil>=2.8.2->pandas) (1.17.0)\n",
      "\n",
      "\u001b[1m[\u001b[0m\u001b[34;49mnotice\u001b[0m\u001b[1;39;49m]\u001b[0m\u001b[39;49m A new release of pip is available: \u001b[0m\u001b[31;49m24.3.1\u001b[0m\u001b[39;49m -> \u001b[0m\u001b[32;49m25.2\u001b[0m\n",
      "\u001b[1m[\u001b[0m\u001b[34;49mnotice\u001b[0m\u001b[1;39;49m]\u001b[0m\u001b[39;49m To update, run: \u001b[0m\u001b[32;49mpip install --upgrade pip\u001b[0m\n",
      "Note: you may need to restart the kernel to use updated packages.\n",
      "\u001b[31mERROR: Could not find a version that satisfies the requirement pickle (from versions: none)\u001b[0m\u001b[31m\n",
      "\u001b[0m\n",
      "\u001b[1m[\u001b[0m\u001b[34;49mnotice\u001b[0m\u001b[1;39;49m]\u001b[0m\u001b[39;49m A new release of pip is available: \u001b[0m\u001b[31;49m24.3.1\u001b[0m\u001b[39;49m -> \u001b[0m\u001b[32;49m25.2\u001b[0m\n",
      "\u001b[1m[\u001b[0m\u001b[34;49mnotice\u001b[0m\u001b[1;39;49m]\u001b[0m\u001b[39;49m To update, run: \u001b[0m\u001b[32;49mpip install --upgrade pip\u001b[0m\n",
      "\u001b[31mERROR: No matching distribution found for pickle\u001b[0m\u001b[31m\n",
      "\u001b[0mNote: you may need to restart the kernel to use updated packages.\n",
      "Requirement already satisfied: matplotlib in ./.venv/lib/python3.13/site-packages (3.10.5)\n",
      "Requirement already satisfied: contourpy>=1.0.1 in ./.venv/lib/python3.13/site-packages (from matplotlib) (1.3.3)\n",
      "Requirement already satisfied: cycler>=0.10 in ./.venv/lib/python3.13/site-packages (from matplotlib) (0.12.1)\n",
      "Requirement already satisfied: fonttools>=4.22.0 in ./.venv/lib/python3.13/site-packages (from matplotlib) (4.59.0)\n",
      "Requirement already satisfied: kiwisolver>=1.3.1 in ./.venv/lib/python3.13/site-packages (from matplotlib) (1.4.8)\n",
      "Requirement already satisfied: numpy>=1.23 in ./.venv/lib/python3.13/site-packages (from matplotlib) (2.3.2)\n",
      "Requirement already satisfied: packaging>=20.0 in ./.venv/lib/python3.13/site-packages (from matplotlib) (25.0)\n",
      "Requirement already satisfied: pillow>=8 in ./.venv/lib/python3.13/site-packages (from matplotlib) (11.3.0)\n",
      "Requirement already satisfied: pyparsing>=2.3.1 in ./.venv/lib/python3.13/site-packages (from matplotlib) (3.2.3)\n",
      "Requirement already satisfied: python-dateutil>=2.7 in ./.venv/lib/python3.13/site-packages (from matplotlib) (2.9.0.post0)\n",
      "Requirement already satisfied: six>=1.5 in ./.venv/lib/python3.13/site-packages (from python-dateutil>=2.7->matplotlib) (1.17.0)\n",
      "\n",
      "\u001b[1m[\u001b[0m\u001b[34;49mnotice\u001b[0m\u001b[1;39;49m]\u001b[0m\u001b[39;49m A new release of pip is available: \u001b[0m\u001b[31;49m24.3.1\u001b[0m\u001b[39;49m -> \u001b[0m\u001b[32;49m25.2\u001b[0m\n",
      "\u001b[1m[\u001b[0m\u001b[34;49mnotice\u001b[0m\u001b[1;39;49m]\u001b[0m\u001b[39;49m To update, run: \u001b[0m\u001b[32;49mpip install --upgrade pip\u001b[0m\n",
      "Note: you may need to restart the kernel to use updated packages.\n"
     ]
    }
   ],
   "source": [
    "%pip install numpy\n",
    "%pip install pandas\n",
    "%pip install pickle\n",
    "%pip install matplotlib"
   ]
  },
  {
   "cell_type": "code",
   "execution_count": 136,
   "id": "9315a1e3",
   "metadata": {},
   "outputs": [],
   "source": [
    "import numpy as np\n",
    "import pandas as pd\n",
    "import pickle"
   ]
  },
  {
   "cell_type": "markdown",
   "id": "ac06374d",
   "metadata": {},
   "source": [
    "3層ニューラルネットの実装"
   ]
  },
  {
   "cell_type": "code",
   "execution_count": 137,
   "id": "2c192e40",
   "metadata": {},
   "outputs": [],
   "source": [
    "#設計\n",
    "def sigmoid(x):\n",
    "    return 1/(1+np.exp(-x))\n",
    "def identity_function(x):\n",
    "    return x\n",
    "def init_network():\n",
    "    network={}\n",
    "    network['W1']=np.array([[0.1,0.3,0.5],[0.2,0.4,0.6]])\n",
    "    network['b1']=np.array([0.1,0.2,0.3])\n",
    "    network['W2']=np.array([[0.1,0.4],[0.2,0.5],[0.3,0.6]])\n",
    "    network['b2']=np.array([0.1,0.2])\n",
    "    network['W3']=np.array([[0.1,0.3],[0.2,0.4]])\n",
    "    network['b3']=np.array([0.1,0.2])\n",
    "\n",
    "    return network\n",
    "def forward(network,x):\n",
    "    W1,W2,W3=network['W1'],network['W2'],network['W3']\n",
    "    b1,b2,b3=network['b1'],network['b2'],network['b3']\n",
    "\n",
    "    a1=np.dot(x,W1)+b1\n",
    "    z1=sigmoid(a1)\n",
    "    a2=np.dot(z1,W2)+b2\n",
    "    z2=sigmoid(a2)\n",
    "    a3=np.dot(z2,W3)+b3\n",
    "    y=identity_function(a3)\n",
    "\n",
    "    return y"
   ]
  },
  {
   "cell_type": "code",
   "execution_count": 138,
   "id": "fae6308e",
   "metadata": {},
   "outputs": [
    {
     "data": {
      "text/plain": [
       "array([0.31682708, 0.69627909])"
      ]
     },
     "execution_count": 138,
     "metadata": {},
     "output_type": "execute_result"
    }
   ],
   "source": [
    "#実装\n",
    "network=init_network()\n",
    "x=np.array([1.0,0.5])\n",
    "forward(network,x)"
   ]
  },
  {
   "cell_type": "markdown",
   "id": "f1540e43",
   "metadata": {},
   "source": [
    "3-5 出力層の設計"
   ]
  },
  {
   "cell_type": "code",
   "execution_count": 139,
   "id": "7366fe2a",
   "metadata": {},
   "outputs": [
    {
     "name": "stdout",
     "output_type": "stream",
     "text": [
      "[ 1.34985881 18.17414537 54.59815003]\n"
     ]
    }
   ],
   "source": [
    "a=np.array([0.3,2.9,4.0])\n",
    "exp_a=np.exp(a)\n",
    "print(exp_a)"
   ]
  },
  {
   "cell_type": "code",
   "execution_count": 140,
   "id": "c4673524",
   "metadata": {},
   "outputs": [
    {
     "name": "stdout",
     "output_type": "stream",
     "text": [
      "74.1221542101633\n"
     ]
    }
   ],
   "source": [
    "sum_exp_a=sum(exp_a)\n",
    "print(sum_exp_a)"
   ]
  },
  {
   "cell_type": "code",
   "execution_count": 141,
   "id": "4cbf6f82",
   "metadata": {},
   "outputs": [
    {
     "data": {
      "text/plain": [
       "array([0.01821127, 0.24519181, 0.73659691])"
      ]
     },
     "execution_count": 141,
     "metadata": {},
     "output_type": "execute_result"
    }
   ],
   "source": [
    "exp_a/sum_exp_a"
   ]
  },
  {
   "cell_type": "code",
   "execution_count": 142,
   "id": "cdd1c63d",
   "metadata": {},
   "outputs": [],
   "source": [
    "#ソフトマックス関数の実装(仮)\n",
    "def softmax(a):\n",
    "    exp_a=np.exp(a)\n",
    "    exp_a_sum=sum(exp_a)\n",
    "    return exp_a/exp_a_sum"
   ]
  },
  {
   "cell_type": "code",
   "execution_count": 143,
   "id": "6cd3eecb",
   "metadata": {},
   "outputs": [
    {
     "name": "stderr",
     "output_type": "stream",
     "text": [
      "/var/folders/4s/g5jfy6yd0r5d8pcvsfwjr7v00000gn/T/ipykernel_97439/2100727282.py:3: RuntimeWarning: overflow encountered in exp\n",
      "  exp_a=np.exp(a)\n",
      "/var/folders/4s/g5jfy6yd0r5d8pcvsfwjr7v00000gn/T/ipykernel_97439/2100727282.py:5: RuntimeWarning: invalid value encountered in divide\n",
      "  return exp_a/exp_a_sum\n"
     ]
    },
    {
     "data": {
      "text/plain": [
       "array([9.99954600e-01, 4.53978686e-05, 2.06106005e-09])"
      ]
     },
     "execution_count": 143,
     "metadata": {},
     "output_type": "execute_result"
    }
   ],
   "source": [
    "a=np.array([1010,1000,990])\n",
    "softmax(a)\n",
    "c=np.max(a)\n",
    "np.exp(a-c)/np.sum(np.exp(a-c))"
   ]
  },
  {
   "cell_type": "code",
   "execution_count": 144,
   "id": "8c6b3181",
   "metadata": {},
   "outputs": [],
   "source": [
    "def softmax(a):\n",
    "    c=np.max(a)\n",
    "    exp_a=np.exp(a-c)\n",
    "    exp_a_sum=np.sum(exp_a)\n",
    "    y=exp_a/exp_a_sum\n",
    "\n",
    "    return y"
   ]
  },
  {
   "cell_type": "code",
   "execution_count": 145,
   "id": "12519200",
   "metadata": {},
   "outputs": [
    {
     "data": {
      "text/plain": [
       "array([0.01821127, 0.24519181, 0.73659691])"
      ]
     },
     "execution_count": 145,
     "metadata": {},
     "output_type": "execute_result"
    }
   ],
   "source": [
    "a=np.array([0.3,2.9,4.0])\n",
    "softmax(a)"
   ]
  },
  {
   "cell_type": "code",
   "execution_count": 146,
   "id": "d178cd96",
   "metadata": {},
   "outputs": [
    {
     "data": {
      "text/plain": [
       "np.float64(1.0)"
      ]
     },
     "execution_count": 146,
     "metadata": {},
     "output_type": "execute_result"
    }
   ],
   "source": [
    "np.sum(softmax(a))"
   ]
  },
  {
   "cell_type": "markdown",
   "id": "b613ad29",
   "metadata": {},
   "source": [
    "3-6　手書き数字認識"
   ]
  },
  {
   "cell_type": "code",
   "execution_count": 147,
   "id": "195029f2",
   "metadata": {},
   "outputs": [
    {
     "name": "stdout",
     "output_type": "stream",
     "text": [
      "CWD: /Users/tanaamidaisuke/Documents/python_code/self_learinng/Deeplearning\n",
      "Before sys.path: ['/Users/tanaamidaisuke/Documents/python_code/self_learinng/Deeplearning/deep-learning-from-scratch-master', '/opt/homebrew/Cellar/python@3.13/3.13.1/Frameworks/Python.framework/Versions/3.13/lib/python313.zip', '/opt/homebrew/Cellar/python@3.13/3.13.1/Frameworks/Python.framework/Versions/3.13/lib/python3.13', '/opt/homebrew/Cellar/python@3.13/3.13.1/Frameworks/Python.framework/Versions/3.13/lib/python3.13/lib-dynload', '', '/Users/tanaamidaisuke/Documents/python_code/self_learinng/Deeplearning/.venv/lib/python3.13/site-packages', '..']\n",
      "After sys.path: ['/Users/tanaamidaisuke/Documents/python_code/self_learinng/Deeplearning/deep-learning-from-scratch-master', '/opt/homebrew/Cellar/python@3.13/3.13.1/Frameworks/Python.framework/Versions/3.13/lib/python313.zip', '/opt/homebrew/Cellar/python@3.13/3.13.1/Frameworks/Python.framework/Versions/3.13/lib/python3.13', '/opt/homebrew/Cellar/python@3.13/3.13.1/Frameworks/Python.framework/Versions/3.13/lib/python3.13/lib-dynload', '', '/Users/tanaamidaisuke/Documents/python_code/self_learinng/Deeplearning/.venv/lib/python3.13/site-packages', '..']\n",
      "✅ import成功！\n"
     ]
    }
   ],
   "source": [
    "import sys, os\n",
    "\n",
    "# カレントディレクトリ確認\n",
    "print(\"CWD:\", os.getcwd())\n",
    "\n",
    "# すでに追加されてるsys.pathを確認（デバッグ用）\n",
    "print(\"Before sys.path:\", sys.path)\n",
    "\n",
    "# 一度重複を防ぐためにクリア（必要なら）\n",
    "while './deep-learning-from-scratch-master' in sys.path:\n",
    "    sys.path.remove('./deep-learning-from-scratch-master')\n",
    "\n",
    "# 絶対パスを追加（ここが最重要！）\n",
    "abs_path = '/Users/tanaamidaisuke/Documents/python_code/self_learinng/Deeplearning/deep-learning-from-scratch-master'\n",
    "if abs_path not in sys.path:\n",
    "    sys.path.insert(0, abs_path)\n",
    "\n",
    "print(\"After sys.path:\", sys.path)\n",
    "\n",
    "# ここでimport（失敗したらエラー出る）\n",
    "from dataset.mnist import load_mnist\n",
    "\n",
    "print(\"✅ import成功！\")"
   ]
  },
  {
   "cell_type": "code",
   "execution_count": 148,
   "id": "8cb13c7f",
   "metadata": {},
   "outputs": [
    {
     "name": "stdout",
     "output_type": "stream",
     "text": [
      "(60000, 784)\n",
      "(60000, 10)\n",
      "(10000, 784)\n",
      "(10000,)\n"
     ]
    }
   ],
   "source": [
    "print(x_train.shape)\n",
    "print(t_train.shape)\n",
    "print(x_test.shape)\n",
    "print(t_test.shape)"
   ]
  },
  {
   "cell_type": "code",
   "execution_count": 149,
   "id": "37f2b50f",
   "metadata": {},
   "outputs": [],
   "source": [
    "def get_data():\n",
    "    (x_train,t_train),(x_test,t_test)=\\\n",
    "        load_mnist(normalize=True,flatten=True,one_hot_label=False)\n",
    "    return x_test,t_test\n",
    "def init_network():\n",
    "    with open('/Users/tanaamidaisuke/Documents/python_code/self_learinng/Deeplearning/deep-learning-from-scratch-master/ch03/sample_weight.pkl','rb') as f:\n",
    "        network=pickle.load(f)\n",
    "    return network\n",
    "def predict(network,x):\n",
    "    W1,W2,W3=network['W1'],network['W2'],network['W3']\n",
    "    b1,b2,b3=network['b1'],network['b2'],network['b3']\n",
    "\n",
    "    a1=np.dot(x,W1)+b1\n",
    "    z1=sigmoid(a1)\n",
    "    a2=np.dot(z1,W2)+b2\n",
    "    z2=sigmoid(a2)\n",
    "    a3=np.dot(z2,W3)+b3\n",
    "    y=softmax(a3)\n",
    "\n",
    "    return y"
   ]
  },
  {
   "cell_type": "code",
   "execution_count": 150,
   "id": "f8e54386",
   "metadata": {},
   "outputs": [
    {
     "name": "stdout",
     "output_type": "stream",
     "text": [
      "accuracy0.9352\n"
     ]
    }
   ],
   "source": [
    "x,t=get_data()\n",
    "network=init_network()\n",
    "\n",
    "accuracy_cnt=0\n",
    "for i in range(len(x)):\n",
    "    y=predict(network,x[i])\n",
    "    p=np.argmax(y) \n",
    "    if p==t[i]:\n",
    "        accuracy_cnt += 1\n",
    "print('accuracy'+str(accuracy_cnt/len(x)))\n"
   ]
  },
  {
   "cell_type": "code",
   "execution_count": 151,
   "id": "30c6e45d",
   "metadata": {},
   "outputs": [],
   "source": [
    "x,_=get_data() #画像のデータと正解ラベルがある\n",
    "network=init_network()\n",
    "W1,W2,W3=network['W1'],network['W2'],network['W3']"
   ]
  },
  {
   "cell_type": "code",
   "execution_count": 152,
   "id": "8a3657e9",
   "metadata": {},
   "outputs": [
    {
     "name": "stdout",
     "output_type": "stream",
     "text": [
      "0.9352\n"
     ]
    }
   ],
   "source": [
    "x,t=get_data()\n",
    "network=init_network()\n",
    "\n",
    "batch_size=100\n",
    "accuracy_cnt=0\n",
    "\n",
    "for i in range(0,len(x),batch_size): #100刻みにiをとってくる\n",
    "    x_batch=x[i:i+batch_size]\n",
    "    y_batch=predict(network,x_batch)\n",
    "    p=np.argmax(y_batch,axis=1) #最大の値のインデックス\n",
    "    accuracy_cnt += np.sum(p==t[i:i+batch_size])\n",
    "\n",
    "print(accuracy_cnt/len(x))\n"
   ]
  },
  {
   "cell_type": "markdown",
   "id": "831d4235",
   "metadata": {},
   "source": [
    "4 ニューラルネットワークの学習"
   ]
  },
  {
   "cell_type": "code",
   "execution_count": 153,
   "id": "85bc2f42",
   "metadata": {},
   "outputs": [],
   "source": [
    "y=[0.1,0.05,0.6,0.0,0.05,0.1,0.0,0.1,0.0,0.0]\n",
    "t=[0,0,1,0,0,0,0,0,0,0]"
   ]
  },
  {
   "cell_type": "code",
   "execution_count": 154,
   "id": "f912f46f",
   "metadata": {},
   "outputs": [],
   "source": [
    "# 損失関数の実装　これの値が小さい方が損失小さい→良い\n",
    "def sum_squard_error(y,t):\n",
    "    return 0.5*np.sum((y-t)**2)"
   ]
  },
  {
   "cell_type": "code",
   "execution_count": 155,
   "id": "2b2b60d6",
   "metadata": {},
   "outputs": [
    {
     "data": {
      "text/plain": [
       "np.float64(0.09750000000000003)"
      ]
     },
     "execution_count": 155,
     "metadata": {},
     "output_type": "execute_result"
    }
   ],
   "source": [
    "sum_squard_error(np.array(y),np.array(t))"
   ]
  },
  {
   "cell_type": "code",
   "execution_count": 156,
   "id": "825dd74b",
   "metadata": {},
   "outputs": [],
   "source": [
    "def cross_entropy_error(y,t):\n",
    "    delta=1e-7\n",
    "    return -np.sum(t*np.log(y+delta))"
   ]
  },
  {
   "cell_type": "code",
   "execution_count": 157,
   "id": "b1c91006",
   "metadata": {},
   "outputs": [
    {
     "data": {
      "text/plain": [
       "np.float64(0.510825457099338)"
      ]
     },
     "execution_count": 157,
     "metadata": {},
     "output_type": "execute_result"
    }
   ],
   "source": [
    "cross_entropy_error(np.array(y),np.array(t))"
   ]
  },
  {
   "cell_type": "code",
   "execution_count": 158,
   "id": "516cef73",
   "metadata": {},
   "outputs": [
    {
     "name": "stdout",
     "output_type": "stream",
     "text": [
      "(60000, 784)\n",
      "(60000, 10)\n"
     ]
    }
   ],
   "source": [
    "(x_train,t_train),(x_test,y_test)=load_mnist(normalize=True,one_hot_label=True)\n",
    "print(x_train.shape)\n",
    "print(t_train.shape)"
   ]
  },
  {
   "cell_type": "code",
   "execution_count": 159,
   "id": "5cac48e2",
   "metadata": {},
   "outputs": [],
   "source": [
    "train_size=x_train.shape[0]\n",
    "batch_size=10\n",
    "batch_mask=np.random.choice(train_size,batch_size)\n",
    "x_batch=x_train[batch_mask]\n",
    "t_batch=t_train[batch_mask]"
   ]
  },
  {
   "cell_type": "code",
   "execution_count": 160,
   "id": "98ffcda5",
   "metadata": {},
   "outputs": [],
   "source": [
    "# y,tがバッチの時のクロスエントロピー誤差\n",
    "def cross_entropy_error(y,t):\n",
    "    delta=1e-7\n",
    "    if y.ndim==1: #列持ちから行持ちに変更することで一括で処理できるようにする\n",
    "        y=y.reshape(1,y.size)\n",
    "        t=t.reshape(1,t.size)\n",
    "    batch_size=y.shape[0]\n",
    "    return -np.sum(t*np.log(y+delta))/batch_size\n",
    "    "
   ]
  },
  {
   "cell_type": "code",
   "execution_count": 161,
   "id": "b2679fc3",
   "metadata": {},
   "outputs": [],
   "source": [
    "# 微分のコード\n",
    "\n",
    "def numerical_diff(f,x):\n",
    "    h=1e-4\n",
    "    return (f(x+h)-f(x-h))/(2*h)"
   ]
  },
  {
   "cell_type": "code",
   "execution_count": 162,
   "id": "277e52ff",
   "metadata": {},
   "outputs": [],
   "source": [
    "def function_1(x):\n",
    "    return 0.01*x**2+0.1*x"
   ]
  },
  {
   "cell_type": "code",
   "execution_count": 163,
   "id": "d73c30b3",
   "metadata": {},
   "outputs": [],
   "source": [
    "import matplotlib.pyplot as plt"
   ]
  },
  {
   "cell_type": "code",
   "execution_count": 164,
   "id": "a193473b",
   "metadata": {},
   "outputs": [
    {
     "data": {
      "text/plain": [
       "[<matplotlib.lines.Line2D at 0x116cb4f50>]"
      ]
     },
     "execution_count": 164,
     "metadata": {},
     "output_type": "execute_result"
    },
    {
     "data": {
      "image/png": "[encoded data removed]",
      "text/plain": [
       "<Figure size 1000x600 with 1 Axes>"
      ]
     },
     "metadata": {},
     "output_type": "display_data"
    }
   ],
   "source": [
    "plt.figure(figsize=(10,6))\n",
    "x=np.arange(0,20,0.1)\n",
    "plt.xlabel('x')\n",
    "plt.ylabel('f(x)')\n",
    "plt.plot(x,function_1(x))"
   ]
  },
  {
   "cell_type": "code",
   "execution_count": 165,
   "id": "2a038119",
   "metadata": {},
   "outputs": [
    {
     "data": {
      "text/plain": [
       "0.1999999999990898"
      ]
     },
     "execution_count": 165,
     "metadata": {},
     "output_type": "execute_result"
    }
   ],
   "source": [
    "numerical_diff(function_1,5)"
   ]
  },
  {
   "cell_type": "code",
   "execution_count": 166,
   "id": "37a22788",
   "metadata": {},
   "outputs": [
    {
     "data": {
      "text/plain": [
       "0.2999999999986347"
      ]
     },
     "execution_count": 166,
     "metadata": {},
     "output_type": "execute_result"
    }
   ],
   "source": [
    "numerical_diff(function_1,10)"
   ]
  },
  {
   "cell_type": "code",
   "execution_count": 167,
   "id": "94cfcb88",
   "metadata": {},
   "outputs": [],
   "source": [
    "def function_2(x):\n",
    "    return x[0]**2+x[1]**2"
   ]
  },
  {
   "cell_type": "code",
   "execution_count": null,
   "id": "de48a67c",
   "metadata": {},
   "outputs": [],
   "source": [
    "def numerical_gradient(f,x):\n",
    "    #xとして与えるのは偏微分を求める点の配列\n",
    "    h=1e-4\n",
    "    grad=np.zeros(x.shape[0])\n",
    "    for idx in range(x.size):#各変数ごとに処理を回す\n",
    "        tmp_val=x[idx]\n",
    "        x[idx]=tmp_val+h\n",
    "        fxh1=f(x)\n",
    "\n",
    "        x[idx]=tmp_val-h\n",
    "        fxh2=f(x)\n",
    "\n",
    "        grad[idx]=(fxh1-fxh2)/(2*h) #偏微分を入れる配列にぶち込む\n",
    "        x[idx]=tmp_val\n",
    "\n",
    "    return grad"
   ]
  },
  {
   "cell_type": "code",
   "execution_count": 171,
   "id": "16dd91f8",
   "metadata": {},
   "outputs": [
    {
     "data": {
      "text/plain": [
       "array([6., 8.])"
      ]
     },
     "execution_count": 171,
     "metadata": {},
     "output_type": "execute_result"
    }
   ],
   "source": [
    "numerical_gradient(function_2,np.array([3.0,4.0]))"
   ]
  },
  {
   "cell_type": "code",
   "execution_count": 178,
   "id": "b238c031",
   "metadata": {},
   "outputs": [],
   "source": [
    "#極小となるxを求める\n",
    "def gradient_descent(f,init_x,lr=0.01,step_num=100):\n",
    "    x=init_x\n",
    "    for i in range(step_num):\n",
    "        grad=numerical_gradient(f,x)\n",
    "        x=x-lr*grad\n",
    "    return x"
   ]
  },
  {
   "cell_type": "code",
   "execution_count": 177,
   "id": "093dcc92",
   "metadata": {},
   "outputs": [],
   "source": [
    "def function_2(x):\n",
    "    return np.sum(x**2)"
   ]
  },
  {
   "cell_type": "code",
   "execution_count": 179,
   "id": "e6162257",
   "metadata": {},
   "outputs": [
    {
     "data": {
      "text/plain": [
       "array([ 6.35809854e-07, -8.90184721e-07])"
      ]
     },
     "execution_count": 179,
     "metadata": {},
     "output_type": "execute_result"
    }
   ],
   "source": [
    "gradient_descent(function_2,np.array([-3,4]),lr=0.1)"
   ]
  },
  {
   "cell_type": "code",
   "execution_count": null,
   "id": "1b2a8a8c",
   "metadata": {},
   "outputs": [],
   "source": [
    "from common.functions import softmax, cross_entropy_error\n",
    "from common.gradient import numerical_gradient\n",
    "\n",
    "class simpleNet:\n",
    "    def __init__(self): \n",
    "        self.W=np.random.randn(2,3) #Wは重みを表すもの\n",
    "    \n",
    "    def predict(self,x):\n",
    "        return np.dot(x,self.W)\n",
    "    \n",
    "    def loss(self,x,t):\n",
    "        z=self.predict(x)\n",
    "        y=softmax(z)\n",
    "        loss=cross_entropy_error(y,t)\n",
    "\n",
    "        return loss"
   ]
  },
  {
   "cell_type": "code",
   "execution_count": 189,
   "id": "d87c4876",
   "metadata": {},
   "outputs": [
    {
     "name": "stdout",
     "output_type": "stream",
     "text": [
      "[[ 0.7381004  -0.569521   -0.22192402]\n",
      " [-0.14108886  0.17070506  0.11067964]]\n",
      "[ 0.31588027 -0.18807804 -0.03354274]\n"
     ]
    }
   ],
   "source": [
    "net=simpleNet()\n",
    "print(net.W)\n",
    "x=np.array([0.6,0.9])\n",
    "p=net.predict(x)\n",
    "print(p) "
   ]
  },
  {
   "cell_type": "code",
   "execution_count": 190,
   "id": "16040ed0",
   "metadata": {},
   "outputs": [
    {
     "data": {
      "text/plain": [
       "np.float64(1.186336543255385)"
      ]
     },
     "execution_count": 190,
     "metadata": {},
     "output_type": "execute_result"
    }
   ],
   "source": [
    "t=np.array([0,0,1])\n",
    "net.loss(x,t)"
   ]
  },
  {
   "cell_type": "code",
   "execution_count": 193,
   "id": "94e7e11c",
   "metadata": {},
   "outputs": [
    {
     "name": "stdout",
     "output_type": "stream",
     "text": [
      "[[ 0.25982685  0.15697038 -0.41679724]\n",
      " [ 0.38974028  0.23545558 -0.62519586]]\n"
     ]
    }
   ],
   "source": [
    "def f(W):\n",
    "    return net.loss(x,t)\n",
    "dW=numerical_gradient(f,net.W)\n",
    "print(dW)"
   ]
  },
  {
   "cell_type": "code",
   "execution_count": null,
   "id": "e659a3d6",
   "metadata": {},
   "outputs": [],
   "source": [
    "#適当に重みを作って、その数字を元に勾配降下をして最適解を見つけるっていう時間"
   ]
  },
  {
   "cell_type": "code",
   "execution_count": 194,
   "id": "97dac9ac",
   "metadata": {},
   "outputs": [],
   "source": [
    "class TwoLayerNet:\n",
    "\n",
    "    def __init__(self,input_size,hidden_size,output_size,weight_init_std=0.1):\n",
    "        #重みの初期化\n",
    "        self.params={}\n",
    "        self.params['W1']=weight_init_std*np.random.randn(input_size,hidden_size)\n",
    "        self.params['b1']=np.zeros(hidden_size)\n",
    "        self.params['W2']=weight_init_std*np.random.randn(hidden_size,output_size)\n",
    "        self.params['b2']=np.zeros(output_size)\n",
    "    \n",
    "    def predict(self,x):\n",
    "        W1,W2=self.params['W1'],self.params['W2']\n",
    "        b1,b2=self.params['b1'],self.params['b2']\n",
    "\n",
    "        a1=np.dot(x,W1)+b1\n",
    "        z1=sigmoid(a1)\n",
    "        a2=np.dot(z1,W2)+b2\n",
    "        y=softmax(a2)\n",
    "\n",
    "        return y\n",
    "\n",
    "    def loss(self,x,t):\n",
    "        y=self.predict(x)\n",
    "\n",
    "        return cross_entropy_error(y,t)\n",
    "\n",
    "    def accuracy(self,x,t):\n",
    "        y=self.predict(x)\n",
    "        y=np.argmax(y,axis=1)\n",
    "        t=np.argmax(t,axis=1)\n",
    "\n",
    "        accuracy=np.sum(y==t)/float(x.shape[0])\n",
    "        return accuracy\n",
    "\n",
    "    def numerical_gradient(self,x,t):\n",
    "        loss_W=lambda W : self.loss(x,t)\n",
    "\n",
    "        grads={}\n",
    "        grads['W1']=numerical_gradient(loss_W,self.params['W1'])\n",
    "        grads['b1']=numerical_gradient(loss_W,self.params['b1'])     \n",
    "        grads['W2']=numerical_gradient(loss_W,self.params['W2'])     \n",
    "        grads['b2']=numerical_gradient(loss_W,self.params['b2'])     \n",
    "\n",
    "        return grads\n",
    "        "
   ]
  },
  {
   "cell_type": "code",
   "execution_count": 199,
   "id": "1dd4cf4a",
   "metadata": {},
   "outputs": [
    {
     "data": {
      "text/plain": [
       "(10,)"
      ]
     },
     "execution_count": 199,
     "metadata": {},
     "output_type": "execute_result"
    }
   ],
   "source": [
    "net=TwoLayerNet(input_size=784,hidden_size=100,output_size=10)\n",
    "net.params['W1'].shape\n",
    "net.params['b1'].shape\n",
    "net.params['W2'].shape\n",
    "net.params['b2'].shape"
   ]
  },
  {
   "cell_type": "code",
   "execution_count": null,
   "id": "9a84ff1c",
   "metadata": {},
   "outputs": [],
   "source": []
  }
 ],
 "metadata": {
  "kernelspec": {
   "display_name": ".venv (3.13.1)",
   "language": "python",
   "name": "python3"
  },
  "language_info": {
   "codemirror_mode": {
    "name": "ipython",
    "version": 3
   },
   "file_extension": ".py",
   "mimetype": "text/x-python",
   "name": "python",
   "nbconvert_exporter": "python",
   "pygments_lexer": "ipython3",
   "version": "3.13.1"
  }
 },
 "nbformat": 4,
 "nbformat_minor": 5
}
